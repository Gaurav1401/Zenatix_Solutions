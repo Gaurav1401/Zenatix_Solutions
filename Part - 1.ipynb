{
 "cells": [
  {
   "cell_type": "code",
   "execution_count": 1,
   "id": "a04e40e9",
   "metadata": {
    "execution": {
     "iopub.execute_input": "2021-12-16T18:23:40.222578Z",
     "iopub.status.busy": "2021-12-16T18:23:40.219434Z",
     "iopub.status.idle": "2021-12-16T18:23:45.046912Z",
     "shell.execute_reply": "2021-12-16T18:23:45.046012Z",
     "shell.execute_reply.started": "2021-12-16T17:24:46.243081Z"
    },
    "papermill": {
     "duration": 4.911217,
     "end_time": "2021-12-16T18:23:45.047136",
     "exception": false,
     "start_time": "2021-12-16T18:23:40.135919",
     "status": "completed"
    },
    "tags": []
   },
   "outputs": [],
   "source": [
    "import matplotlib.pyplot as plt\n",
    "import numpy as np\n",
    "import pandas as pd\n",
    "from tqdm import tqdm\n",
    "import joblib\n",
    "import dask.distributed\n",
    "from sklearn.metrics import r2_score\n",
    "\n",
    "from multiprocessing import Pool, cpu_count\n",
    "from fbprophet import Prophet\n",
    "import ray\n",
    "\n",
    "from statsmodels.graphics.tsaplots import plot_acf, plot_pacf\n",
    "\n",
    "c = dask.distributed.Client() # Using this for parallel programming, to make quicker predictions"
   ]
  },
  {
   "cell_type": "code",
   "execution_count": 2,
   "id": "ec1bcd47",
   "metadata": {
    "execution": {
     "iopub.execute_input": "2021-12-16T18:23:45.202552Z",
     "iopub.status.busy": "2021-12-16T18:23:45.201745Z",
     "iopub.status.idle": "2021-12-16T18:23:47.220072Z",
     "shell.execute_reply": "2021-12-16T18:23:47.220771Z",
     "shell.execute_reply.started": "2021-12-16T17:24:51.242777Z"
    },
    "papermill": {
     "duration": 2.09909,
     "end_time": "2021-12-16T18:23:47.220972",
     "exception": false,
     "start_time": "2021-12-16T18:23:45.121882",
     "status": "completed"
    },
    "tags": []
   },
   "outputs": [
    {
     "data": {
      "text/plain": [
       "{'node_ip_address': '172.19.2.2',\n",
       " 'raylet_ip_address': '172.19.2.2',\n",
       " 'redis_address': '172.19.2.2:6379',\n",
       " 'object_store_address': '/tmp/ray/session_2021-12-16_18-23-45_202968_20/sockets/plasma_store',\n",
       " 'raylet_socket_name': '/tmp/ray/session_2021-12-16_18-23-45_202968_20/sockets/raylet',\n",
       " 'webui_url': None,\n",
       " 'session_dir': '/tmp/ray/session_2021-12-16_18-23-45_202968_20',\n",
       " 'metrics_export_port': 50056,\n",
       " 'node_id': '96dd3497598ccddfa7f5940969efe88cfd685cbe46503396546450bd'}"
      ]
     },
     "execution_count": 2,
     "metadata": {},
     "output_type": "execute_result"
    }
   ],
   "source": [
    "# !pip install pmdarima\n",
    "NUM_CPU = 8\n",
    "ray.init(\n",
    "  # avoid error messages in case re-running this cell\n",
    "   ignore_reinit_error=True\n",
    "#   num_cpus = NUM_CPU\n",
    ")"
   ]
  },
  {
   "cell_type": "code",
   "execution_count": 3,
   "id": "e026c73a",
   "metadata": {
    "execution": {
     "iopub.execute_input": "2021-12-16T18:23:47.375977Z",
     "iopub.status.busy": "2021-12-16T18:23:47.375271Z",
     "iopub.status.idle": "2021-12-16T18:23:47.378191Z",
     "shell.execute_reply": "2021-12-16T18:23:47.377679Z",
     "shell.execute_reply.started": "2021-12-16T17:24:53.402401Z"
    },
    "papermill": {
     "duration": 0.080596,
     "end_time": "2021-12-16T18:23:47.378333",
     "exception": false,
     "start_time": "2021-12-16T18:23:47.297737",
     "status": "completed"
    },
    "tags": []
   },
   "outputs": [],
   "source": [
    "import warnings as wg\n",
    "wg.filterwarnings(\"ignore\")"
   ]
  },
  {
   "cell_type": "code",
   "execution_count": 4,
   "id": "2582eb8c",
   "metadata": {
    "execution": {
     "iopub.execute_input": "2021-12-16T18:23:47.528401Z",
     "iopub.status.busy": "2021-12-16T18:23:47.527660Z",
     "iopub.status.idle": "2021-12-16T18:23:48.009227Z",
     "shell.execute_reply": "2021-12-16T18:23:48.008498Z",
     "shell.execute_reply.started": "2021-12-16T17:24:53.411776Z"
    },
    "papermill": {
     "duration": 0.559478,
     "end_time": "2021-12-16T18:23:48.009383",
     "exception": false,
     "start_time": "2021-12-16T18:23:47.449905",
     "status": "completed"
    },
    "tags": []
   },
   "outputs": [],
   "source": [
    "df = pd.read_csv(\"../input/zenatix/AC_Data.csv\")"
   ]
  },
  {
   "cell_type": "code",
   "execution_count": 5,
   "id": "d2619103",
   "metadata": {
    "execution": {
     "iopub.execute_input": "2021-12-16T18:23:48.178551Z",
     "iopub.status.busy": "2021-12-16T18:23:48.177655Z",
     "iopub.status.idle": "2021-12-16T18:23:48.209358Z",
     "shell.execute_reply": "2021-12-16T18:23:48.208798Z",
     "shell.execute_reply.started": "2021-12-16T17:24:53.879839Z"
    },
    "papermill": {
     "duration": 0.117603,
     "end_time": "2021-12-16T18:23:48.209516",
     "exception": false,
     "start_time": "2021-12-16T18:23:48.091913",
     "status": "completed"
    },
    "tags": []
   },
   "outputs": [
    {
     "data": {
      "text/html": [
       "<div>\n",
       "<style scoped>\n",
       "    .dataframe tbody tr th:only-of-type {\n",
       "        vertical-align: middle;\n",
       "    }\n",
       "\n",
       "    .dataframe tbody tr th {\n",
       "        vertical-align: top;\n",
       "    }\n",
       "\n",
       "    .dataframe thead th {\n",
       "        text-align: right;\n",
       "    }\n",
       "</style>\n",
       "<table border=\"1\" class=\"dataframe\">\n",
       "  <thead>\n",
       "    <tr style=\"text-align: right;\">\n",
       "      <th></th>\n",
       "      <th>0</th>\n",
       "      <th>AC 1</th>\n",
       "      <th>AC 2</th>\n",
       "      <th>AC 3</th>\n",
       "      <th>AC 4</th>\n",
       "      <th>AC 5</th>\n",
       "      <th>AC 6</th>\n",
       "      <th>AC 7</th>\n",
       "      <th>AC 8</th>\n",
       "      <th>AC 9</th>\n",
       "      <th>AC 10</th>\n",
       "      <th>AC 11</th>\n",
       "      <th>AC 12</th>\n",
       "      <th>AC 13</th>\n",
       "      <th>AC 14</th>\n",
       "      <th>AC 15</th>\n",
       "      <th>AC 16</th>\n",
       "      <th>AC 17</th>\n",
       "      <th>AC 18</th>\n",
       "    </tr>\n",
       "  </thead>\n",
       "  <tbody>\n",
       "    <tr>\n",
       "      <th>0</th>\n",
       "      <td>2019-08-01 00:00:00</td>\n",
       "      <td>7.518632</td>\n",
       "      <td>8.788315</td>\n",
       "      <td>0.0</td>\n",
       "      <td>0.0</td>\n",
       "      <td>2.617045</td>\n",
       "      <td>4.079041</td>\n",
       "      <td>2.782276</td>\n",
       "      <td>4.624447</td>\n",
       "      <td>5.222060</td>\n",
       "      <td>2.151238</td>\n",
       "      <td>1.585072</td>\n",
       "      <td>0.560373</td>\n",
       "      <td>3.142941</td>\n",
       "      <td>2.749470</td>\n",
       "      <td>5.417774</td>\n",
       "      <td>4.113460</td>\n",
       "      <td>3.305072</td>\n",
       "      <td>6.735981</td>\n",
       "    </tr>\n",
       "    <tr>\n",
       "      <th>1</th>\n",
       "      <td>2019-08-01 00:01:00</td>\n",
       "      <td>NaN</td>\n",
       "      <td>NaN</td>\n",
       "      <td>NaN</td>\n",
       "      <td>NaN</td>\n",
       "      <td>NaN</td>\n",
       "      <td>NaN</td>\n",
       "      <td>NaN</td>\n",
       "      <td>NaN</td>\n",
       "      <td>NaN</td>\n",
       "      <td>NaN</td>\n",
       "      <td>NaN</td>\n",
       "      <td>NaN</td>\n",
       "      <td>NaN</td>\n",
       "      <td>NaN</td>\n",
       "      <td>NaN</td>\n",
       "      <td>NaN</td>\n",
       "      <td>NaN</td>\n",
       "      <td>NaN</td>\n",
       "    </tr>\n",
       "    <tr>\n",
       "      <th>2</th>\n",
       "      <td>2019-08-01 00:02:00</td>\n",
       "      <td>7.426114</td>\n",
       "      <td>8.940615</td>\n",
       "      <td>0.0</td>\n",
       "      <td>0.0</td>\n",
       "      <td>2.581625</td>\n",
       "      <td>3.781231</td>\n",
       "      <td>2.529366</td>\n",
       "      <td>5.057423</td>\n",
       "      <td>5.349465</td>\n",
       "      <td>2.414715</td>\n",
       "      <td>2.168184</td>\n",
       "      <td>1.818730</td>\n",
       "      <td>3.085110</td>\n",
       "      <td>2.720484</td>\n",
       "      <td>3.302422</td>\n",
       "      <td>3.986483</td>\n",
       "      <td>3.220588</td>\n",
       "      <td>6.379500</td>\n",
       "    </tr>\n",
       "    <tr>\n",
       "      <th>3</th>\n",
       "      <td>2019-08-01 00:03:00</td>\n",
       "      <td>NaN</td>\n",
       "      <td>NaN</td>\n",
       "      <td>NaN</td>\n",
       "      <td>NaN</td>\n",
       "      <td>NaN</td>\n",
       "      <td>NaN</td>\n",
       "      <td>NaN</td>\n",
       "      <td>NaN</td>\n",
       "      <td>NaN</td>\n",
       "      <td>NaN</td>\n",
       "      <td>NaN</td>\n",
       "      <td>NaN</td>\n",
       "      <td>NaN</td>\n",
       "      <td>NaN</td>\n",
       "      <td>NaN</td>\n",
       "      <td>NaN</td>\n",
       "      <td>NaN</td>\n",
       "      <td>NaN</td>\n",
       "    </tr>\n",
       "  </tbody>\n",
       "</table>\n",
       "</div>"
      ],
      "text/plain": [
       "                     0      AC 1      AC 2  AC 3  AC 4      AC 5      AC 6  \\\n",
       "0  2019-08-01 00:00:00  7.518632  8.788315   0.0   0.0  2.617045  4.079041   \n",
       "1  2019-08-01 00:01:00       NaN       NaN   NaN   NaN       NaN       NaN   \n",
       "2  2019-08-01 00:02:00  7.426114  8.940615   0.0   0.0  2.581625  3.781231   \n",
       "3  2019-08-01 00:03:00       NaN       NaN   NaN   NaN       NaN       NaN   \n",
       "\n",
       "       AC 7      AC 8      AC 9     AC 10     AC 11     AC 12     AC 13  \\\n",
       "0  2.782276  4.624447  5.222060  2.151238  1.585072  0.560373  3.142941   \n",
       "1       NaN       NaN       NaN       NaN       NaN       NaN       NaN   \n",
       "2  2.529366  5.057423  5.349465  2.414715  2.168184  1.818730  3.085110   \n",
       "3       NaN       NaN       NaN       NaN       NaN       NaN       NaN   \n",
       "\n",
       "      AC 14     AC 15     AC 16     AC 17     AC 18  \n",
       "0  2.749470  5.417774  4.113460  3.305072  6.735981  \n",
       "1       NaN       NaN       NaN       NaN       NaN  \n",
       "2  2.720484  3.302422  3.986483  3.220588  6.379500  \n",
       "3       NaN       NaN       NaN       NaN       NaN  "
      ]
     },
     "execution_count": 5,
     "metadata": {},
     "output_type": "execute_result"
    }
   ],
   "source": [
    "df.head(4)"
   ]
  },
  {
   "cell_type": "code",
   "execution_count": 6,
   "id": "f64e2f67",
   "metadata": {
    "execution": {
     "iopub.execute_input": "2021-12-16T18:23:48.368412Z",
     "iopub.status.busy": "2021-12-16T18:23:48.365664Z",
     "iopub.status.idle": "2021-12-16T18:23:48.412393Z",
     "shell.execute_reply": "2021-12-16T18:23:48.413012Z",
     "shell.execute_reply.started": "2021-12-16T13:32:52.51754Z"
    },
    "papermill": {
     "duration": 0.128158,
     "end_time": "2021-12-16T18:23:48.413192",
     "exception": false,
     "start_time": "2021-12-16T18:23:48.285034",
     "status": "completed"
    },
    "tags": []
   },
   "outputs": [
    {
     "data": {
      "text/plain": [
       "11.1947890625"
      ]
     },
     "execution_count": 6,
     "metadata": {},
     "output_type": "execute_result"
    }
   ],
   "source": [
    "np.max(np.array(df.dropna().drop(\"0\", axis = \"columns\")))"
   ]
  },
  {
   "cell_type": "code",
   "execution_count": 7,
   "id": "2c4e5417",
   "metadata": {
    "execution": {
     "iopub.execute_input": "2021-12-16T18:23:48.581811Z",
     "iopub.status.busy": "2021-12-16T18:23:48.580836Z",
     "iopub.status.idle": "2021-12-16T18:23:48.617249Z",
     "shell.execute_reply": "2021-12-16T18:23:48.616530Z",
     "shell.execute_reply.started": "2021-12-16T13:33:06.361001Z"
    },
    "papermill": {
     "duration": 0.122166,
     "end_time": "2021-12-16T18:23:48.617394",
     "exception": false,
     "start_time": "2021-12-16T18:23:48.495228",
     "status": "completed"
    },
    "tags": []
   },
   "outputs": [
    {
     "data": {
      "text/plain": [
       "0.0"
      ]
     },
     "execution_count": 7,
     "metadata": {},
     "output_type": "execute_result"
    }
   ],
   "source": [
    "np.min(np.array(df.dropna().drop(\"0\", axis = \"columns\")))"
   ]
  },
  {
   "cell_type": "markdown",
   "id": "66b500ab",
   "metadata": {
    "papermill": {
     "duration": 0.086862,
     "end_time": "2021-12-16T18:23:48.790645",
     "exception": false,
     "start_time": "2021-12-16T18:23:48.703783",
     "status": "completed"
    },
    "tags": []
   },
   "source": [
    "**We have only 50% of the data, of alternate minutes only**"
   ]
  },
  {
   "cell_type": "code",
   "execution_count": 8,
   "id": "b4826e7c",
   "metadata": {
    "execution": {
     "iopub.execute_input": "2021-12-16T18:23:48.955279Z",
     "iopub.status.busy": "2021-12-16T18:23:48.954290Z",
     "iopub.status.idle": "2021-12-16T18:23:48.968525Z",
     "shell.execute_reply": "2021-12-16T18:23:48.967902Z",
     "shell.execute_reply.started": "2021-12-16T05:00:39.019329Z"
    },
    "papermill": {
     "duration": 0.098883,
     "end_time": "2021-12-16T18:23:48.968665",
     "exception": false,
     "start_time": "2021-12-16T18:23:48.869782",
     "status": "completed"
    },
    "tags": []
   },
   "outputs": [],
   "source": [
    "df = df.reset_index()"
   ]
  },
  {
   "cell_type": "code",
   "execution_count": 9,
   "id": "7823697d",
   "metadata": {
    "execution": {
     "iopub.execute_input": "2021-12-16T18:23:49.136063Z",
     "iopub.status.busy": "2021-12-16T18:23:49.135017Z",
     "iopub.status.idle": "2021-12-16T18:23:49.178913Z",
     "shell.execute_reply": "2021-12-16T18:23:49.177740Z",
     "shell.execute_reply.started": "2021-12-16T05:00:39.198276Z"
    },
    "papermill": {
     "duration": 0.131839,
     "end_time": "2021-12-16T18:23:49.179744",
     "exception": false,
     "start_time": "2021-12-16T18:23:49.047905",
     "status": "completed"
    },
    "tags": []
   },
   "outputs": [
    {
     "name": "stdout",
     "output_type": "stream",
     "text": [
      "<class 'pandas.core.frame.DataFrame'>\n",
      "RangeIndex: 87840 entries, 0 to 87839\n",
      "Data columns (total 20 columns):\n",
      " #   Column  Non-Null Count  Dtype  \n",
      "---  ------  --------------  -----  \n",
      " 0   index   87840 non-null  int64  \n",
      " 1   0       87840 non-null  object \n",
      " 2   AC 1    43708 non-null  float64\n",
      " 3   AC 2    43711 non-null  float64\n",
      " 4   AC 3    43713 non-null  float64\n",
      " 5   AC 4    43704 non-null  float64\n",
      " 6   AC 5    43716 non-null  float64\n",
      " 7   AC 6    43717 non-null  float64\n",
      " 8   AC 7    43679 non-null  float64\n",
      " 9   AC 8    43704 non-null  float64\n",
      " 10  AC 9    43654 non-null  float64\n",
      " 11  AC 10   43690 non-null  float64\n",
      " 12  AC 11   43670 non-null  float64\n",
      " 13  AC 12   43713 non-null  float64\n",
      " 14  AC 13   43719 non-null  float64\n",
      " 15  AC 14   43696 non-null  float64\n",
      " 16  AC 15   43715 non-null  float64\n",
      " 17  AC 16   43710 non-null  float64\n",
      " 18  AC 17   43714 non-null  float64\n",
      " 19  AC 18   43723 non-null  float64\n",
      "dtypes: float64(18), int64(1), object(1)\n",
      "memory usage: 13.4+ MB\n"
     ]
    }
   ],
   "source": [
    "df.info()"
   ]
  },
  {
   "cell_type": "markdown",
   "id": "7a05818d",
   "metadata": {
    "papermill": {
     "duration": 0.079656,
     "end_time": "2021-12-16T18:23:49.345110",
     "exception": false,
     "start_time": "2021-12-16T18:23:49.265454",
     "status": "completed"
    },
    "tags": []
   },
   "source": [
    "**0 column is in the form of a string, so convert it to datetime datatype**"
   ]
  },
  {
   "cell_type": "code",
   "execution_count": 10,
   "id": "487a57f9",
   "metadata": {
    "execution": {
     "iopub.execute_input": "2021-12-16T18:23:49.539460Z",
     "iopub.status.busy": "2021-12-16T18:23:49.538727Z",
     "iopub.status.idle": "2021-12-16T18:23:49.549923Z",
     "shell.execute_reply": "2021-12-16T18:23:49.548878Z",
     "shell.execute_reply.started": "2021-12-16T05:00:39.242046Z"
    },
    "papermill": {
     "duration": 0.128327,
     "end_time": "2021-12-16T18:23:49.550175",
     "exception": false,
     "start_time": "2021-12-16T18:23:49.421848",
     "status": "completed"
    },
    "tags": []
   },
   "outputs": [],
   "source": [
    "df[\"0\"] = df[\"0\"].astype(\"datetime64\")"
   ]
  },
  {
   "cell_type": "code",
   "execution_count": 11,
   "id": "d8a8f067",
   "metadata": {
    "execution": {
     "iopub.execute_input": "2021-12-16T18:23:49.747594Z",
     "iopub.status.busy": "2021-12-16T18:23:49.745277Z",
     "iopub.status.idle": "2021-12-16T18:23:49.751508Z",
     "shell.execute_reply": "2021-12-16T18:23:49.752135Z",
     "shell.execute_reply.started": "2021-12-16T05:00:39.289044Z"
    },
    "papermill": {
     "duration": 0.09688,
     "end_time": "2021-12-16T18:23:49.752316",
     "exception": false,
     "start_time": "2021-12-16T18:23:49.655436",
     "status": "completed"
    },
    "tags": []
   },
   "outputs": [
    {
     "data": {
      "text/plain": [
       "(87840, 20)"
      ]
     },
     "execution_count": 11,
     "metadata": {},
     "output_type": "execute_result"
    }
   ],
   "source": [
    "df.shape"
   ]
  },
  {
   "cell_type": "code",
   "execution_count": 12,
   "id": "e1ed4c0a",
   "metadata": {
    "execution": {
     "iopub.execute_input": "2021-12-16T18:23:49.920875Z",
     "iopub.status.busy": "2021-12-16T18:23:49.918396Z",
     "iopub.status.idle": "2021-12-16T18:23:49.933591Z",
     "shell.execute_reply": "2021-12-16T18:23:49.934318Z",
     "shell.execute_reply.started": "2021-12-16T05:00:39.315015Z"
    },
    "papermill": {
     "duration": 0.099893,
     "end_time": "2021-12-16T18:23:49.934494",
     "exception": false,
     "start_time": "2021-12-16T18:23:49.834601",
     "status": "completed"
    },
    "tags": []
   },
   "outputs": [
    {
     "data": {
      "text/plain": [
       "index     0.000000\n",
       "0         0.000000\n",
       "AC 1     50.241348\n",
       "AC 2     50.237933\n",
       "AC 3     50.235656\n",
       "AC 4     50.245902\n",
       "AC 5     50.232240\n",
       "AC 6     50.231102\n",
       "AC 7     50.274362\n",
       "AC 8     50.245902\n",
       "AC 9     50.302823\n",
       "AC 10    50.261840\n",
       "AC 11    50.284608\n",
       "AC 12    50.235656\n",
       "AC 13    50.228825\n",
       "AC 14    50.255009\n",
       "AC 15    50.233379\n",
       "AC 16    50.239071\n",
       "AC 17    50.234517\n",
       "AC 18    50.224271\n",
       "dtype: float64"
      ]
     },
     "execution_count": 12,
     "metadata": {},
     "output_type": "execute_result"
    }
   ],
   "source": [
    "df.isna().sum() / df.shape[0] *100"
   ]
  },
  {
   "cell_type": "code",
   "execution_count": 13,
   "id": "fb57ca7c",
   "metadata": {
    "execution": {
     "iopub.execute_input": "2021-12-16T18:23:50.133662Z",
     "iopub.status.busy": "2021-12-16T18:23:50.132646Z",
     "iopub.status.idle": "2021-12-16T18:23:50.148422Z",
     "shell.execute_reply": "2021-12-16T18:23:50.147727Z",
     "shell.execute_reply.started": "2021-12-16T05:00:39.334971Z"
    },
    "papermill": {
     "duration": 0.126376,
     "end_time": "2021-12-16T18:23:50.148571",
     "exception": false,
     "start_time": "2021-12-16T18:23:50.022195",
     "status": "completed"
    },
    "tags": []
   },
   "outputs": [
    {
     "data": {
      "text/html": [
       "<div>\n",
       "<style scoped>\n",
       "    .dataframe tbody tr th:only-of-type {\n",
       "        vertical-align: middle;\n",
       "    }\n",
       "\n",
       "    .dataframe tbody tr th {\n",
       "        vertical-align: top;\n",
       "    }\n",
       "\n",
       "    .dataframe thead th {\n",
       "        text-align: right;\n",
       "    }\n",
       "</style>\n",
       "<table border=\"1\" class=\"dataframe\">\n",
       "  <thead>\n",
       "    <tr style=\"text-align: right;\">\n",
       "      <th></th>\n",
       "      <th>index</th>\n",
       "      <th>0</th>\n",
       "      <th>AC 1</th>\n",
       "      <th>AC 2</th>\n",
       "      <th>AC 3</th>\n",
       "      <th>AC 4</th>\n",
       "      <th>AC 5</th>\n",
       "      <th>AC 6</th>\n",
       "      <th>AC 7</th>\n",
       "      <th>AC 8</th>\n",
       "      <th>AC 9</th>\n",
       "      <th>AC 10</th>\n",
       "      <th>AC 11</th>\n",
       "      <th>AC 12</th>\n",
       "      <th>AC 13</th>\n",
       "      <th>AC 14</th>\n",
       "      <th>AC 15</th>\n",
       "      <th>AC 16</th>\n",
       "      <th>AC 17</th>\n",
       "      <th>AC 18</th>\n",
       "    </tr>\n",
       "  </thead>\n",
       "  <tbody>\n",
       "    <tr>\n",
       "      <th>87837</th>\n",
       "      <td>87837</td>\n",
       "      <td>2019-09-30 23:57:00</td>\n",
       "      <td>1.209176</td>\n",
       "      <td>6.152532</td>\n",
       "      <td>2.211421</td>\n",
       "      <td>0.0</td>\n",
       "      <td>1.448103</td>\n",
       "      <td>0.000000</td>\n",
       "      <td>3.151248</td>\n",
       "      <td>2.871690</td>\n",
       "      <td>3.417942</td>\n",
       "      <td>2.185493</td>\n",
       "      <td>5.174168</td>\n",
       "      <td>2.772349</td>\n",
       "      <td>3.786657</td>\n",
       "      <td>2.060023</td>\n",
       "      <td>4.057525</td>\n",
       "      <td>1.870886</td>\n",
       "      <td>2.991946</td>\n",
       "      <td>7.134647</td>\n",
       "    </tr>\n",
       "    <tr>\n",
       "      <th>87838</th>\n",
       "      <td>87838</td>\n",
       "      <td>2019-09-30 23:58:00</td>\n",
       "      <td>NaN</td>\n",
       "      <td>NaN</td>\n",
       "      <td>NaN</td>\n",
       "      <td>NaN</td>\n",
       "      <td>NaN</td>\n",
       "      <td>NaN</td>\n",
       "      <td>NaN</td>\n",
       "      <td>NaN</td>\n",
       "      <td>NaN</td>\n",
       "      <td>NaN</td>\n",
       "      <td>NaN</td>\n",
       "      <td>NaN</td>\n",
       "      <td>NaN</td>\n",
       "      <td>NaN</td>\n",
       "      <td>NaN</td>\n",
       "      <td>NaN</td>\n",
       "      <td>NaN</td>\n",
       "      <td>NaN</td>\n",
       "    </tr>\n",
       "    <tr>\n",
       "      <th>87839</th>\n",
       "      <td>87839</td>\n",
       "      <td>2019-09-30 23:59:00</td>\n",
       "      <td>1.430442</td>\n",
       "      <td>6.078281</td>\n",
       "      <td>1.891162</td>\n",
       "      <td>0.0</td>\n",
       "      <td>1.577491</td>\n",
       "      <td>4.364239</td>\n",
       "      <td>3.126339</td>\n",
       "      <td>3.287224</td>\n",
       "      <td>3.986978</td>\n",
       "      <td>2.013912</td>\n",
       "      <td>4.821829</td>\n",
       "      <td>3.363855</td>\n",
       "      <td>3.380110</td>\n",
       "      <td>1.949240</td>\n",
       "      <td>4.026304</td>\n",
       "      <td>1.862166</td>\n",
       "      <td>3.009434</td>\n",
       "      <td>7.179719</td>\n",
       "    </tr>\n",
       "  </tbody>\n",
       "</table>\n",
       "</div>"
      ],
      "text/plain": [
       "       index                   0      AC 1      AC 2      AC 3  AC 4  \\\n",
       "87837  87837 2019-09-30 23:57:00  1.209176  6.152532  2.211421   0.0   \n",
       "87838  87838 2019-09-30 23:58:00       NaN       NaN       NaN   NaN   \n",
       "87839  87839 2019-09-30 23:59:00  1.430442  6.078281  1.891162   0.0   \n",
       "\n",
       "           AC 5      AC 6      AC 7      AC 8      AC 9     AC 10     AC 11  \\\n",
       "87837  1.448103  0.000000  3.151248  2.871690  3.417942  2.185493  5.174168   \n",
       "87838       NaN       NaN       NaN       NaN       NaN       NaN       NaN   \n",
       "87839  1.577491  4.364239  3.126339  3.287224  3.986978  2.013912  4.821829   \n",
       "\n",
       "          AC 12     AC 13     AC 14     AC 15     AC 16     AC 17     AC 18  \n",
       "87837  2.772349  3.786657  2.060023  4.057525  1.870886  2.991946  7.134647  \n",
       "87838       NaN       NaN       NaN       NaN       NaN       NaN       NaN  \n",
       "87839  3.363855  3.380110  1.949240  4.026304  1.862166  3.009434  7.179719  "
      ]
     },
     "execution_count": 13,
     "metadata": {},
     "output_type": "execute_result"
    }
   ],
   "source": [
    "df.tail(3)"
   ]
  },
  {
   "cell_type": "markdown",
   "id": "79582edb",
   "metadata": {
    "papermill": {
     "duration": 0.079886,
     "end_time": "2021-12-16T18:23:50.311360",
     "exception": false,
     "start_time": "2021-12-16T18:23:50.231474",
     "status": "completed"
    },
    "tags": []
   },
   "source": [
    "# Which AC had the highest total power consumption?"
   ]
  },
  {
   "cell_type": "code",
   "execution_count": 14,
   "id": "5a05620b",
   "metadata": {
    "execution": {
     "iopub.execute_input": "2021-12-16T18:23:50.505573Z",
     "iopub.status.busy": "2021-12-16T18:23:50.504333Z",
     "iopub.status.idle": "2021-12-16T18:23:50.548978Z",
     "shell.execute_reply": "2021-12-16T18:23:50.548313Z",
     "shell.execute_reply.started": "2021-12-16T05:00:39.362004Z"
    },
    "papermill": {
     "duration": 0.155169,
     "end_time": "2021-12-16T18:23:50.549137",
     "exception": false,
     "start_time": "2021-12-16T18:23:50.393968",
     "status": "completed"
    },
    "tags": []
   },
   "outputs": [],
   "source": [
    "index = df.iloc[:,2:].sum(axis = 0).index\n",
    "values = df.iloc[:,2:].sum(axis = 0).values"
   ]
  },
  {
   "cell_type": "code",
   "execution_count": 15,
   "id": "300c4af4",
   "metadata": {
    "execution": {
     "iopub.execute_input": "2021-12-16T18:23:50.709489Z",
     "iopub.status.busy": "2021-12-16T18:23:50.708499Z",
     "iopub.status.idle": "2021-12-16T18:23:51.103014Z",
     "shell.execute_reply": "2021-12-16T18:23:51.103524Z",
     "shell.execute_reply.started": "2021-12-16T05:00:53.321887Z"
    },
    "papermill": {
     "duration": 0.47836,
     "end_time": "2021-12-16T18:23:51.103717",
     "exception": false,
     "start_time": "2021-12-16T18:23:50.625357",
     "status": "completed"
    },
    "tags": []
   },
   "outputs": [
    {
     "data": {
      "text/plain": [
       "<BarContainer object of 18 artists>"
      ]
     },
     "execution_count": 15,
     "metadata": {},
     "output_type": "execute_result"
    },
    {
     "data": {
      "image/png": "[encoded data removed]",
      "text/plain": [
       "<Figure size 432x288 with 1 Axes>"
      ]
     },
     "metadata": {
      "needs_background": "light"
     },
     "output_type": "display_data"
    }
   ],
   "source": [
    "plt.barh(index, values)"
   ]
  },
  {
   "cell_type": "markdown",
   "id": "fe2004de",
   "metadata": {
    "papermill": {
     "duration": 0.079162,
     "end_time": "2021-12-16T18:23:51.282632",
     "exception": false,
     "start_time": "2021-12-16T18:23:51.203470",
     "status": "completed"
    },
    "tags": []
   },
   "source": [
    "**Overall Power Consumption of AC 18 is the highest**"
   ]
  },
  {
   "cell_type": "markdown",
   "id": "b458d1f0",
   "metadata": {
    "papermill": {
     "duration": 0.079379,
     "end_time": "2021-12-16T18:23:51.441292",
     "exception": false,
     "start_time": "2021-12-16T18:23:51.361913",
     "status": "completed"
    },
    "tags": []
   },
   "source": [
    "# Which AC was used the most/least?\n",
    "For how much time, a particular AC was working"
   ]
  },
  {
   "cell_type": "code",
   "execution_count": 16,
   "id": "11869311",
   "metadata": {
    "execution": {
     "iopub.execute_input": "2021-12-16T18:23:51.635354Z",
     "iopub.status.busy": "2021-12-16T18:23:51.627869Z",
     "iopub.status.idle": "2021-12-16T18:23:52.078160Z",
     "shell.execute_reply": "2021-12-16T18:23:52.077461Z",
     "shell.execute_reply.started": "2021-12-16T05:01:30.836505Z"
    },
    "papermill": {
     "duration": 0.557209,
     "end_time": "2021-12-16T18:23:52.078324",
     "exception": false,
     "start_time": "2021-12-16T18:23:51.521115",
     "status": "completed"
    },
    "tags": []
   },
   "outputs": [
    {
     "data": {
      "image/png": "[encoded data removed]",
      "text/plain": [
       "<Figure size 432x288 with 1 Axes>"
      ]
     },
     "metadata": {
      "needs_background": "light"
     },
     "output_type": "display_data"
    }
   ],
   "source": [
    "ac = df.iloc[:,2:][df.iloc[:,2:]>0].count().index\n",
    "values = df.iloc[:,2:][df.iloc[:,2:]>0].count().values\n",
    "# df[df>0].count()\n",
    "plt.barh(ac, values)\n",
    "plt.show()"
   ]
  },
  {
   "cell_type": "markdown",
   "id": "a396f97a",
   "metadata": {
    "papermill": {
     "duration": 0.078078,
     "end_time": "2021-12-16T18:23:52.232895",
     "exception": false,
     "start_time": "2021-12-16T18:23:52.154817",
     "status": "completed"
    },
    "tags": []
   },
   "source": [
    "**AC 1 has worked the least number of hours <br>\n",
    "AC 17 has worked the most number of hours**"
   ]
  },
  {
   "cell_type": "code",
   "execution_count": 17,
   "id": "0ce28163",
   "metadata": {
    "execution": {
     "iopub.execute_input": "2021-12-16T18:23:52.405448Z",
     "iopub.status.busy": "2021-12-16T18:23:52.404397Z",
     "iopub.status.idle": "2021-12-16T18:23:52.539342Z",
     "shell.execute_reply": "2021-12-16T18:23:52.540650Z",
     "shell.execute_reply.started": "2021-12-16T05:09:25.519166Z"
    },
    "papermill": {
     "duration": 0.229695,
     "end_time": "2021-12-16T18:23:52.540834",
     "exception": false,
     "start_time": "2021-12-16T18:23:52.311139",
     "status": "completed"
    },
    "tags": []
   },
   "outputs": [
    {
     "data": {
      "text/html": [
       "<div>\n",
       "<style scoped>\n",
       "    .dataframe tbody tr th:only-of-type {\n",
       "        vertical-align: middle;\n",
       "    }\n",
       "\n",
       "    .dataframe tbody tr th {\n",
       "        vertical-align: top;\n",
       "    }\n",
       "\n",
       "    .dataframe thead th {\n",
       "        text-align: right;\n",
       "    }\n",
       "</style>\n",
       "<table border=\"1\" class=\"dataframe\">\n",
       "  <thead>\n",
       "    <tr style=\"text-align: right;\">\n",
       "      <th></th>\n",
       "      <th>index</th>\n",
       "      <th>AC 1</th>\n",
       "      <th>AC 2</th>\n",
       "      <th>AC 3</th>\n",
       "      <th>AC 4</th>\n",
       "      <th>AC 5</th>\n",
       "      <th>AC 6</th>\n",
       "      <th>AC 7</th>\n",
       "      <th>AC 8</th>\n",
       "      <th>AC 9</th>\n",
       "      <th>AC 10</th>\n",
       "      <th>AC 11</th>\n",
       "      <th>AC 12</th>\n",
       "      <th>AC 13</th>\n",
       "      <th>AC 14</th>\n",
       "      <th>AC 15</th>\n",
       "      <th>AC 16</th>\n",
       "      <th>AC 17</th>\n",
       "      <th>AC 18</th>\n",
       "    </tr>\n",
       "  </thead>\n",
       "  <tbody>\n",
       "    <tr>\n",
       "      <th>count</th>\n",
       "      <td>87840.00000</td>\n",
       "      <td>43708.000000</td>\n",
       "      <td>43711.000000</td>\n",
       "      <td>43713.000000</td>\n",
       "      <td>43704.000000</td>\n",
       "      <td>43716.000000</td>\n",
       "      <td>43717.000000</td>\n",
       "      <td>43679.000000</td>\n",
       "      <td>43704.000000</td>\n",
       "      <td>43654.000000</td>\n",
       "      <td>43690.000000</td>\n",
       "      <td>43670.000000</td>\n",
       "      <td>43713.000000</td>\n",
       "      <td>43719.000000</td>\n",
       "      <td>43696.000000</td>\n",
       "      <td>43715.000000</td>\n",
       "      <td>43710.000000</td>\n",
       "      <td>43714.000000</td>\n",
       "      <td>43723.000000</td>\n",
       "    </tr>\n",
       "    <tr>\n",
       "      <th>mean</th>\n",
       "      <td>43919.50000</td>\n",
       "      <td>2.379368</td>\n",
       "      <td>3.868892</td>\n",
       "      <td>2.568411</td>\n",
       "      <td>2.395158</td>\n",
       "      <td>1.421699</td>\n",
       "      <td>2.518138</td>\n",
       "      <td>2.980883</td>\n",
       "      <td>2.548711</td>\n",
       "      <td>3.184382</td>\n",
       "      <td>1.538344</td>\n",
       "      <td>2.406141</td>\n",
       "      <td>2.699639</td>\n",
       "      <td>4.279893</td>\n",
       "      <td>2.917122</td>\n",
       "      <td>4.046283</td>\n",
       "      <td>2.800050</td>\n",
       "      <td>4.218979</td>\n",
       "      <td>6.462676</td>\n",
       "    </tr>\n",
       "    <tr>\n",
       "      <th>std</th>\n",
       "      <td>25357.36816</td>\n",
       "      <td>2.276782</td>\n",
       "      <td>2.545147</td>\n",
       "      <td>1.487508</td>\n",
       "      <td>1.797529</td>\n",
       "      <td>0.767218</td>\n",
       "      <td>1.655560</td>\n",
       "      <td>1.473498</td>\n",
       "      <td>1.504482</td>\n",
       "      <td>1.522291</td>\n",
       "      <td>0.685461</td>\n",
       "      <td>1.554481</td>\n",
       "      <td>1.436087</td>\n",
       "      <td>1.847168</td>\n",
       "      <td>1.454946</td>\n",
       "      <td>2.016898</td>\n",
       "      <td>1.606239</td>\n",
       "      <td>1.125491</td>\n",
       "      <td>2.319242</td>\n",
       "    </tr>\n",
       "    <tr>\n",
       "      <th>min</th>\n",
       "      <td>0.00000</td>\n",
       "      <td>0.000000</td>\n",
       "      <td>0.000000</td>\n",
       "      <td>0.000000</td>\n",
       "      <td>0.000000</td>\n",
       "      <td>0.000000</td>\n",
       "      <td>0.000000</td>\n",
       "      <td>0.000000</td>\n",
       "      <td>0.000000</td>\n",
       "      <td>0.000000</td>\n",
       "      <td>0.000000</td>\n",
       "      <td>0.000000</td>\n",
       "      <td>0.000000</td>\n",
       "      <td>0.000000</td>\n",
       "      <td>0.000000</td>\n",
       "      <td>0.000000</td>\n",
       "      <td>0.000000</td>\n",
       "      <td>0.000000</td>\n",
       "      <td>0.000000</td>\n",
       "    </tr>\n",
       "    <tr>\n",
       "      <th>25%</th>\n",
       "      <td>21959.75000</td>\n",
       "      <td>0.000000</td>\n",
       "      <td>2.123263</td>\n",
       "      <td>1.706508</td>\n",
       "      <td>1.258299</td>\n",
       "      <td>0.970744</td>\n",
       "      <td>1.543779</td>\n",
       "      <td>2.190803</td>\n",
       "      <td>1.766230</td>\n",
       "      <td>2.294635</td>\n",
       "      <td>1.117139</td>\n",
       "      <td>1.591748</td>\n",
       "      <td>1.949729</td>\n",
       "      <td>3.260674</td>\n",
       "      <td>1.852981</td>\n",
       "      <td>3.023501</td>\n",
       "      <td>1.877626</td>\n",
       "      <td>3.752478</td>\n",
       "      <td>4.013579</td>\n",
       "    </tr>\n",
       "    <tr>\n",
       "      <th>50%</th>\n",
       "      <td>43919.50000</td>\n",
       "      <td>2.094330</td>\n",
       "      <td>3.791752</td>\n",
       "      <td>2.486992</td>\n",
       "      <td>2.308961</td>\n",
       "      <td>1.380183</td>\n",
       "      <td>2.665063</td>\n",
       "      <td>3.005071</td>\n",
       "      <td>2.608551</td>\n",
       "      <td>3.082134</td>\n",
       "      <td>1.504554</td>\n",
       "      <td>2.351361</td>\n",
       "      <td>2.727152</td>\n",
       "      <td>4.217381</td>\n",
       "      <td>2.787084</td>\n",
       "      <td>4.001279</td>\n",
       "      <td>2.673698</td>\n",
       "      <td>4.611434</td>\n",
       "      <td>7.131194</td>\n",
       "    </tr>\n",
       "    <tr>\n",
       "      <th>75%</th>\n",
       "      <td>65879.25000</td>\n",
       "      <td>3.661752</td>\n",
       "      <td>5.460892</td>\n",
       "      <td>3.441527</td>\n",
       "      <td>3.476123</td>\n",
       "      <td>1.870234</td>\n",
       "      <td>3.616988</td>\n",
       "      <td>3.897857</td>\n",
       "      <td>3.496358</td>\n",
       "      <td>4.096374</td>\n",
       "      <td>1.963707</td>\n",
       "      <td>3.254937</td>\n",
       "      <td>3.566744</td>\n",
       "      <td>5.379832</td>\n",
       "      <td>3.824467</td>\n",
       "      <td>5.260193</td>\n",
       "      <td>3.695294</td>\n",
       "      <td>4.958306</td>\n",
       "      <td>8.314639</td>\n",
       "    </tr>\n",
       "    <tr>\n",
       "      <th>max</th>\n",
       "      <td>87839.00000</td>\n",
       "      <td>11.194789</td>\n",
       "      <td>11.147141</td>\n",
       "      <td>8.430909</td>\n",
       "      <td>9.879500</td>\n",
       "      <td>5.495358</td>\n",
       "      <td>9.929291</td>\n",
       "      <td>9.356776</td>\n",
       "      <td>9.331506</td>\n",
       "      <td>10.026747</td>\n",
       "      <td>4.625030</td>\n",
       "      <td>10.363151</td>\n",
       "      <td>9.887306</td>\n",
       "      <td>9.796393</td>\n",
       "      <td>9.054969</td>\n",
       "      <td>10.349998</td>\n",
       "      <td>10.654430</td>\n",
       "      <td>5.950261</td>\n",
       "      <td>11.040031</td>\n",
       "    </tr>\n",
       "  </tbody>\n",
       "</table>\n",
       "</div>"
      ],
      "text/plain": [
       "             index          AC 1          AC 2          AC 3          AC 4  \\\n",
       "count  87840.00000  43708.000000  43711.000000  43713.000000  43704.000000   \n",
       "mean   43919.50000      2.379368      3.868892      2.568411      2.395158   \n",
       "std    25357.36816      2.276782      2.545147      1.487508      1.797529   \n",
       "min        0.00000      0.000000      0.000000      0.000000      0.000000   \n",
       "25%    21959.75000      0.000000      2.123263      1.706508      1.258299   \n",
       "50%    43919.50000      2.094330      3.791752      2.486992      2.308961   \n",
       "75%    65879.25000      3.661752      5.460892      3.441527      3.476123   \n",
       "max    87839.00000     11.194789     11.147141      8.430909      9.879500   \n",
       "\n",
       "               AC 5          AC 6          AC 7          AC 8          AC 9  \\\n",
       "count  43716.000000  43717.000000  43679.000000  43704.000000  43654.000000   \n",
       "mean       1.421699      2.518138      2.980883      2.548711      3.184382   \n",
       "std        0.767218      1.655560      1.473498      1.504482      1.522291   \n",
       "min        0.000000      0.000000      0.000000      0.000000      0.000000   \n",
       "25%        0.970744      1.543779      2.190803      1.766230      2.294635   \n",
       "50%        1.380183      2.665063      3.005071      2.608551      3.082134   \n",
       "75%        1.870234      3.616988      3.897857      3.496358      4.096374   \n",
       "max        5.495358      9.929291      9.356776      9.331506     10.026747   \n",
       "\n",
       "              AC 10         AC 11         AC 12         AC 13         AC 14  \\\n",
       "count  43690.000000  43670.000000  43713.000000  43719.000000  43696.000000   \n",
       "mean       1.538344      2.406141      2.699639      4.279893      2.917122   \n",
       "std        0.685461      1.554481      1.436087      1.847168      1.454946   \n",
       "min        0.000000      0.000000      0.000000      0.000000      0.000000   \n",
       "25%        1.117139      1.591748      1.949729      3.260674      1.852981   \n",
       "50%        1.504554      2.351361      2.727152      4.217381      2.787084   \n",
       "75%        1.963707      3.254937      3.566744      5.379832      3.824467   \n",
       "max        4.625030     10.363151      9.887306      9.796393      9.054969   \n",
       "\n",
       "              AC 15         AC 16         AC 17         AC 18  \n",
       "count  43715.000000  43710.000000  43714.000000  43723.000000  \n",
       "mean       4.046283      2.800050      4.218979      6.462676  \n",
       "std        2.016898      1.606239      1.125491      2.319242  \n",
       "min        0.000000      0.000000      0.000000      0.000000  \n",
       "25%        3.023501      1.877626      3.752478      4.013579  \n",
       "50%        4.001279      2.673698      4.611434      7.131194  \n",
       "75%        5.260193      3.695294      4.958306      8.314639  \n",
       "max       10.349998     10.654430      5.950261     11.040031  "
      ]
     },
     "execution_count": 17,
     "metadata": {},
     "output_type": "execute_result"
    }
   ],
   "source": [
    "df.describe()"
   ]
  },
  {
   "cell_type": "code",
   "execution_count": 18,
   "id": "1cbbb5fe",
   "metadata": {
    "execution": {
     "iopub.execute_input": "2021-12-16T18:23:52.710593Z",
     "iopub.status.busy": "2021-12-16T18:23:52.708646Z",
     "iopub.status.idle": "2021-12-16T18:23:52.713085Z",
     "shell.execute_reply": "2021-12-16T18:23:52.713593Z",
     "shell.execute_reply.started": "2021-12-14T04:36:46.404355Z"
    },
    "papermill": {
     "duration": 0.089306,
     "end_time": "2021-12-16T18:23:52.713754",
     "exception": false,
     "start_time": "2021-12-16T18:23:52.624448",
     "status": "completed"
    },
    "tags": []
   },
   "outputs": [],
   "source": [
    "# plt.plot(df[\"AC 1\"])\n",
    "# plt.ylim([0, 12])\n",
    "# plt.show()"
   ]
  },
  {
   "cell_type": "code",
   "execution_count": 19,
   "id": "697353d7",
   "metadata": {
    "execution": {
     "iopub.execute_input": "2021-12-16T18:23:52.896394Z",
     "iopub.status.busy": "2021-12-16T18:23:52.895327Z",
     "iopub.status.idle": "2021-12-16T18:23:52.898138Z",
     "shell.execute_reply": "2021-12-16T18:23:52.897384Z",
     "shell.execute_reply.started": "2021-12-14T04:36:46.409303Z"
    },
    "papermill": {
     "duration": 0.10245,
     "end_time": "2021-12-16T18:23:52.898338",
     "exception": false,
     "start_time": "2021-12-16T18:23:52.795888",
     "status": "completed"
    },
    "tags": []
   },
   "outputs": [],
   "source": [
    "# df1 = df.copy()\n",
    "# df1.dropna(inplace = True)"
   ]
  },
  {
   "cell_type": "code",
   "execution_count": 20,
   "id": "80860248",
   "metadata": {
    "execution": {
     "iopub.execute_input": "2021-12-16T18:23:53.081312Z",
     "iopub.status.busy": "2021-12-16T18:23:53.080557Z",
     "iopub.status.idle": "2021-12-16T18:23:53.085830Z",
     "shell.execute_reply": "2021-12-16T18:23:53.085274Z",
     "shell.execute_reply.started": "2021-12-14T04:36:46.434719Z"
    },
    "papermill": {
     "duration": 0.09124,
     "end_time": "2021-12-16T18:23:53.086001",
     "exception": false,
     "start_time": "2021-12-16T18:23:52.994761",
     "status": "completed"
    },
    "tags": []
   },
   "outputs": [],
   "source": [
    "# plt.figure(figsize = (20, 10))\n",
    "# plt.plot(df1[\"AC 1\"][:1500])\n",
    "# # plt.xticks(rotation=60)\n",
    "# plt.ylim([0, 12])\n",
    "# # plt.show()"
   ]
  },
  {
   "cell_type": "code",
   "execution_count": 21,
   "id": "36e3eac9",
   "metadata": {
    "execution": {
     "iopub.execute_input": "2021-12-16T18:23:53.252033Z",
     "iopub.status.busy": "2021-12-16T18:23:53.251259Z",
     "iopub.status.idle": "2021-12-16T18:23:53.254998Z",
     "shell.execute_reply": "2021-12-16T18:23:53.254459Z",
     "shell.execute_reply.started": "2021-12-14T04:43:01.763224Z"
    },
    "papermill": {
     "duration": 0.087617,
     "end_time": "2021-12-16T18:23:53.255133",
     "exception": false,
     "start_time": "2021-12-16T18:23:53.167516",
     "status": "completed"
    },
    "tags": []
   },
   "outputs": [],
   "source": [
    "# plt.figure(figsize = (20, 10))\n",
    "# plt.plot(df1[\"AC 1\"])\n",
    "# # plt.xticks(rotation=60)\n",
    "# plt.ylim([0, 12])\n",
    "# plt.show()"
   ]
  },
  {
   "cell_type": "code",
   "execution_count": 22,
   "id": "f2857180",
   "metadata": {
    "execution": {
     "iopub.execute_input": "2021-12-16T18:23:53.447255Z",
     "iopub.status.busy": "2021-12-16T18:23:53.446281Z",
     "iopub.status.idle": "2021-12-16T18:23:53.448080Z",
     "shell.execute_reply": "2021-12-16T18:23:53.448573Z",
     "shell.execute_reply.started": "2021-12-14T04:54:34.616232Z"
    },
    "papermill": {
     "duration": 0.105513,
     "end_time": "2021-12-16T18:23:53.448746",
     "exception": false,
     "start_time": "2021-12-16T18:23:53.343233",
     "status": "completed"
    },
    "tags": []
   },
   "outputs": [],
   "source": [
    "# plt.figure(figsize = (20, 10))\n",
    "# plt.plot(df[\"AC 1\"].dropna())\n",
    "# # plt.xticks(rotation=60)\n",
    "# plt.ylim([0, 12])\n",
    "# plt.show()"
   ]
  },
  {
   "cell_type": "code",
   "execution_count": 23,
   "id": "2ae51407",
   "metadata": {
    "execution": {
     "iopub.execute_input": "2021-12-16T18:23:53.618100Z",
     "iopub.status.busy": "2021-12-16T18:23:53.616487Z",
     "iopub.status.idle": "2021-12-16T18:23:53.621083Z",
     "shell.execute_reply": "2021-12-16T18:23:53.620421Z",
     "shell.execute_reply.started": "2021-12-14T04:37:04.825429Z"
    },
    "papermill": {
     "duration": 0.090335,
     "end_time": "2021-12-16T18:23:53.621233",
     "exception": false,
     "start_time": "2021-12-16T18:23:53.530898",
     "status": "completed"
    },
    "tags": []
   },
   "outputs": [],
   "source": [
    "# plt.figure(figsize = (20, 10))\n",
    "# plt.plot(df[\"AC 1\"].bfill()[:3000])\n",
    "# # plt.xticks(rotation=60)\n",
    "# plt.ylim([0, 12])\n",
    "# plt.show()"
   ]
  },
  {
   "cell_type": "code",
   "execution_count": 24,
   "id": "ad6c7bd7",
   "metadata": {
    "execution": {
     "iopub.execute_input": "2021-12-16T18:23:53.822669Z",
     "iopub.status.busy": "2021-12-16T18:23:53.821438Z",
     "iopub.status.idle": "2021-12-16T18:23:53.826574Z",
     "shell.execute_reply": "2021-12-16T18:23:53.827571Z",
     "shell.execute_reply.started": "2021-12-16T05:09:58.530316Z"
    },
    "papermill": {
     "duration": 0.121684,
     "end_time": "2021-12-16T18:23:53.827771",
     "exception": false,
     "start_time": "2021-12-16T18:23:53.706087",
     "status": "completed"
    },
    "tags": []
   },
   "outputs": [],
   "source": [
    "cols = list(df.columns) # gettting the list of columns of the dataframe\n",
    "cols.remove(\"0\")"
   ]
  },
  {
   "cell_type": "code",
   "execution_count": 25,
   "id": "6715a469",
   "metadata": {
    "execution": {
     "iopub.execute_input": "2021-12-16T18:23:54.010068Z",
     "iopub.status.busy": "2021-12-16T18:23:54.009071Z",
     "iopub.status.idle": "2021-12-16T18:23:54.013304Z",
     "shell.execute_reply": "2021-12-16T18:23:54.012690Z",
     "shell.execute_reply.started": "2021-12-16T05:09:58.88738Z"
    },
    "papermill": {
     "duration": 0.098624,
     "end_time": "2021-12-16T18:23:54.013445",
     "exception": false,
     "start_time": "2021-12-16T18:23:53.914821",
     "status": "completed"
    },
    "tags": []
   },
   "outputs": [
    {
     "data": {
      "text/plain": [
       "['index',\n",
       " 'AC 1',\n",
       " 'AC 2',\n",
       " 'AC 3',\n",
       " 'AC 4',\n",
       " 'AC 5',\n",
       " 'AC 6',\n",
       " 'AC 7',\n",
       " 'AC 8',\n",
       " 'AC 9',\n",
       " 'AC 10',\n",
       " 'AC 11',\n",
       " 'AC 12',\n",
       " 'AC 13',\n",
       " 'AC 14',\n",
       " 'AC 15',\n",
       " 'AC 16',\n",
       " 'AC 17',\n",
       " 'AC 18']"
      ]
     },
     "execution_count": 25,
     "metadata": {},
     "output_type": "execute_result"
    }
   ],
   "source": [
    "cols"
   ]
  },
  {
   "cell_type": "code",
   "execution_count": 26,
   "id": "a2594297",
   "metadata": {
    "execution": {
     "iopub.execute_input": "2021-12-16T18:23:54.181417Z",
     "iopub.status.busy": "2021-12-16T18:23:54.180215Z",
     "iopub.status.idle": "2021-12-16T18:23:54.262519Z",
     "shell.execute_reply": "2021-12-16T18:23:54.263129Z",
     "shell.execute_reply.started": "2021-12-16T05:10:45.100168Z"
    },
    "papermill": {
     "duration": 0.168603,
     "end_time": "2021-12-16T18:23:54.263312",
     "exception": false,
     "start_time": "2021-12-16T18:23:54.094709",
     "status": "completed"
    },
    "tags": []
   },
   "outputs": [],
   "source": [
    "from sklearn.preprocessing import StandardScaler \n",
    "#Doing standardisation of the dataset, before filling missing values\n",
    "scaler = StandardScaler().fit(df[cols])"
   ]
  },
  {
   "cell_type": "code",
   "execution_count": 27,
   "id": "5ed4fc00",
   "metadata": {
    "execution": {
     "iopub.execute_input": "2021-12-16T18:23:54.436992Z",
     "iopub.status.busy": "2021-12-16T18:23:54.436051Z",
     "iopub.status.idle": "2021-12-16T18:23:54.464226Z",
     "shell.execute_reply": "2021-12-16T18:23:54.464756Z",
     "shell.execute_reply.started": "2021-12-16T05:17:21.105948Z"
    },
    "papermill": {
     "duration": 0.116445,
     "end_time": "2021-12-16T18:23:54.465023",
     "exception": false,
     "start_time": "2021-12-16T18:23:54.348578",
     "status": "completed"
    },
    "tags": []
   },
   "outputs": [],
   "source": [
    "df_scaled = pd.DataFrame(scaler.transform(df[cols]), columns = cols)"
   ]
  },
  {
   "cell_type": "markdown",
   "id": "e2cdc24c",
   "metadata": {
    "papermill": {
     "duration": 0.093421,
     "end_time": "2021-12-16T18:23:54.645543",
     "exception": false,
     "start_time": "2021-12-16T18:23:54.552122",
     "status": "completed"
    },
    "tags": []
   },
   "source": [
    "**I have used Gaussian Process Regressor to fill all the missing values, as AC power consumption depends on the outside temperature and temperature is a natural phenomenan, so it will follow Gaussian distribution, that's why using Gaussian process to fill the missing values.**"
   ]
  },
  {
   "cell_type": "markdown",
   "id": "b915be5f",
   "metadata": {
    "papermill": {
     "duration": 0.084981,
     "end_time": "2021-12-16T18:23:54.816623",
     "exception": false,
     "start_time": "2021-12-16T18:23:54.731642",
     "status": "completed"
    },
    "tags": []
   },
   "source": [
    "Reference:- [Click here](https://scikit-learn.org/stable/auto_examples/gaussian_process/plot_gpr_noisy_targets.html#sphx-glr-auto-examples-gaussian-process-plot-gpr-noisy-targets-py)"
   ]
  },
  {
   "cell_type": "code",
   "execution_count": 28,
   "id": "c9a41e16",
   "metadata": {
    "execution": {
     "iopub.execute_input": "2021-12-16T18:23:55.005129Z",
     "iopub.status.busy": "2021-12-16T18:23:55.004373Z",
     "iopub.status.idle": "2021-12-16T18:23:55.021433Z",
     "shell.execute_reply": "2021-12-16T18:23:55.021909Z",
     "shell.execute_reply.started": "2021-12-15T08:16:25.257095Z"
    },
    "papermill": {
     "duration": 0.117677,
     "end_time": "2021-12-16T18:23:55.022148",
     "exception": false,
     "start_time": "2021-12-16T18:23:54.904471",
     "status": "completed"
    },
    "tags": []
   },
   "outputs": [],
   "source": [
    "from sklearn.gaussian_process import GaussianProcessRegressor\n",
    "import numpy as np\n",
    "from sklearn.gaussian_process.kernels import RBF, ConstantKernel as C"
   ]
  },
  {
   "cell_type": "code",
   "execution_count": 29,
   "id": "d14f3fed",
   "metadata": {
    "execution": {
     "iopub.execute_input": "2021-12-16T18:23:55.209492Z",
     "iopub.status.busy": "2021-12-16T18:23:55.208786Z",
     "iopub.status.idle": "2021-12-16T18:23:55.210658Z",
     "shell.execute_reply": "2021-12-16T18:23:55.211202Z",
     "shell.execute_reply.started": "2021-12-15T08:16:30.809887Z"
    },
    "papermill": {
     "duration": 0.09448,
     "end_time": "2021-12-16T18:23:55.211365",
     "exception": false,
     "start_time": "2021-12-16T18:23:55.116885",
     "status": "completed"
    },
    "tags": []
   },
   "outputs": [],
   "source": [
    "kernel = C(1.0, (1e-3, 1e3)) * RBF(10, (1e-2, 1e2))\n",
    "gp = GaussianProcessRegressor(kernel=kernel, n_restarts_optimizer=9)"
   ]
  },
  {
   "cell_type": "code",
   "execution_count": 30,
   "id": "1fbaf21b",
   "metadata": {
    "execution": {
     "iopub.execute_input": "2021-12-16T18:23:55.403998Z",
     "iopub.status.busy": "2021-12-16T18:23:55.394911Z",
     "iopub.status.idle": "2021-12-16T18:23:55.414450Z",
     "shell.execute_reply": "2021-12-16T18:23:55.413927Z",
     "shell.execute_reply.started": "2021-12-15T04:42:49.95467Z"
    },
    "papermill": {
     "duration": 0.118147,
     "end_time": "2021-12-16T18:23:55.414590",
     "exception": false,
     "start_time": "2021-12-16T18:23:55.296443",
     "status": "completed"
    },
    "tags": []
   },
   "outputs": [
    {
     "data": {
      "text/html": [
       "<div>\n",
       "<style scoped>\n",
       "    .dataframe tbody tr th:only-of-type {\n",
       "        vertical-align: middle;\n",
       "    }\n",
       "\n",
       "    .dataframe tbody tr th {\n",
       "        vertical-align: top;\n",
       "    }\n",
       "\n",
       "    .dataframe thead th {\n",
       "        text-align: right;\n",
       "    }\n",
       "</style>\n",
       "<table border=\"1\" class=\"dataframe\">\n",
       "  <thead>\n",
       "    <tr style=\"text-align: right;\">\n",
       "      <th></th>\n",
       "      <th>index</th>\n",
       "      <th>AC 1</th>\n",
       "      <th>AC 2</th>\n",
       "      <th>AC 3</th>\n",
       "      <th>AC 4</th>\n",
       "      <th>AC 5</th>\n",
       "      <th>AC 6</th>\n",
       "      <th>AC 7</th>\n",
       "      <th>AC 8</th>\n",
       "      <th>AC 9</th>\n",
       "      <th>AC 10</th>\n",
       "      <th>AC 11</th>\n",
       "      <th>AC 12</th>\n",
       "      <th>AC 13</th>\n",
       "      <th>AC 14</th>\n",
       "      <th>AC 15</th>\n",
       "      <th>AC 16</th>\n",
       "      <th>AC 17</th>\n",
       "      <th>AC 18</th>\n",
       "    </tr>\n",
       "  </thead>\n",
       "  <tbody>\n",
       "    <tr>\n",
       "      <th>0</th>\n",
       "      <td>-1.732031</td>\n",
       "      <td>2.257274</td>\n",
       "      <td>1.932886</td>\n",
       "      <td>-1.726674</td>\n",
       "      <td>-1.332488</td>\n",
       "      <td>1.558043</td>\n",
       "      <td>0.942836</td>\n",
       "      <td>-0.134788</td>\n",
       "      <td>1.379717</td>\n",
       "      <td>1.338575</td>\n",
       "      <td>0.894145</td>\n",
       "      <td>-0.528201</td>\n",
       "      <td>-1.489665</td>\n",
       "      <td>-0.615518</td>\n",
       "      <td>-0.115231</td>\n",
       "      <td>0.680008</td>\n",
       "      <td>0.817702</td>\n",
       "      <td>-0.812017</td>\n",
       "      <td>0.117844</td>\n",
       "    </tr>\n",
       "    <tr>\n",
       "      <th>1</th>\n",
       "      <td>-1.731992</td>\n",
       "      <td>NaN</td>\n",
       "      <td>NaN</td>\n",
       "      <td>NaN</td>\n",
       "      <td>NaN</td>\n",
       "      <td>NaN</td>\n",
       "      <td>NaN</td>\n",
       "      <td>NaN</td>\n",
       "      <td>NaN</td>\n",
       "      <td>NaN</td>\n",
       "      <td>NaN</td>\n",
       "      <td>NaN</td>\n",
       "      <td>NaN</td>\n",
       "      <td>NaN</td>\n",
       "      <td>NaN</td>\n",
       "      <td>NaN</td>\n",
       "      <td>NaN</td>\n",
       "      <td>NaN</td>\n",
       "      <td>NaN</td>\n",
       "    </tr>\n",
       "    <tr>\n",
       "      <th>2</th>\n",
       "      <td>-1.731952</td>\n",
       "      <td>2.216639</td>\n",
       "      <td>1.992726</td>\n",
       "      <td>-1.726674</td>\n",
       "      <td>-1.332488</td>\n",
       "      <td>1.511877</td>\n",
       "      <td>0.762949</td>\n",
       "      <td>-0.306429</td>\n",
       "      <td>1.667512</td>\n",
       "      <td>1.422270</td>\n",
       "      <td>1.278530</td>\n",
       "      <td>-0.153080</td>\n",
       "      <td>-0.613416</td>\n",
       "      <td>-0.646826</td>\n",
       "      <td>-0.135153</td>\n",
       "      <td>-0.368818</td>\n",
       "      <td>0.738649</td>\n",
       "      <td>-0.887082</td>\n",
       "      <td>-0.035864</td>\n",
       "    </tr>\n",
       "    <tr>\n",
       "      <th>3</th>\n",
       "      <td>-1.731913</td>\n",
       "      <td>NaN</td>\n",
       "      <td>NaN</td>\n",
       "      <td>NaN</td>\n",
       "      <td>NaN</td>\n",
       "      <td>NaN</td>\n",
       "      <td>NaN</td>\n",
       "      <td>NaN</td>\n",
       "      <td>NaN</td>\n",
       "      <td>NaN</td>\n",
       "      <td>NaN</td>\n",
       "      <td>NaN</td>\n",
       "      <td>NaN</td>\n",
       "      <td>NaN</td>\n",
       "      <td>NaN</td>\n",
       "      <td>NaN</td>\n",
       "      <td>NaN</td>\n",
       "      <td>NaN</td>\n",
       "      <td>NaN</td>\n",
       "    </tr>\n",
       "    <tr>\n",
       "      <th>4</th>\n",
       "      <td>-1.731873</td>\n",
       "      <td>2.052753</td>\n",
       "      <td>2.079357</td>\n",
       "      <td>-1.726674</td>\n",
       "      <td>-1.332488</td>\n",
       "      <td>1.525524</td>\n",
       "      <td>0.774363</td>\n",
       "      <td>-0.440168</td>\n",
       "      <td>2.508407</td>\n",
       "      <td>0.532762</td>\n",
       "      <td>1.019429</td>\n",
       "      <td>0.604377</td>\n",
       "      <td>-0.271038</td>\n",
       "      <td>-0.621008</td>\n",
       "      <td>-0.165136</td>\n",
       "      <td>-0.251506</td>\n",
       "      <td>0.621229</td>\n",
       "      <td>-0.966184</td>\n",
       "      <td>-0.042773</td>\n",
       "    </tr>\n",
       "  </tbody>\n",
       "</table>\n",
       "</div>"
      ],
      "text/plain": [
       "      index      AC 1      AC 2      AC 3      AC 4      AC 5      AC 6  \\\n",
       "0 -1.732031  2.257274  1.932886 -1.726674 -1.332488  1.558043  0.942836   \n",
       "1 -1.731992       NaN       NaN       NaN       NaN       NaN       NaN   \n",
       "2 -1.731952  2.216639  1.992726 -1.726674 -1.332488  1.511877  0.762949   \n",
       "3 -1.731913       NaN       NaN       NaN       NaN       NaN       NaN   \n",
       "4 -1.731873  2.052753  2.079357 -1.726674 -1.332488  1.525524  0.774363   \n",
       "\n",
       "       AC 7      AC 8      AC 9     AC 10     AC 11     AC 12     AC 13  \\\n",
       "0 -0.134788  1.379717  1.338575  0.894145 -0.528201 -1.489665 -0.615518   \n",
       "1       NaN       NaN       NaN       NaN       NaN       NaN       NaN   \n",
       "2 -0.306429  1.667512  1.422270  1.278530 -0.153080 -0.613416 -0.646826   \n",
       "3       NaN       NaN       NaN       NaN       NaN       NaN       NaN   \n",
       "4 -0.440168  2.508407  0.532762  1.019429  0.604377 -0.271038 -0.621008   \n",
       "\n",
       "      AC 14     AC 15     AC 16     AC 17     AC 18  \n",
       "0 -0.115231  0.680008  0.817702 -0.812017  0.117844  \n",
       "1       NaN       NaN       NaN       NaN       NaN  \n",
       "2 -0.135153 -0.368818  0.738649 -0.887082 -0.035864  \n",
       "3       NaN       NaN       NaN       NaN       NaN  \n",
       "4 -0.165136 -0.251506  0.621229 -0.966184 -0.042773  "
      ]
     },
     "execution_count": 30,
     "metadata": {},
     "output_type": "execute_result"
    }
   ],
   "source": [
    "df_scaled.head()"
   ]
  },
  {
   "cell_type": "markdown",
   "id": "47427712",
   "metadata": {
    "papermill": {
     "duration": 0.088785,
     "end_time": "2021-12-16T18:23:55.592143",
     "exception": false,
     "start_time": "2021-12-16T18:23:55.503358",
     "status": "completed"
    },
    "tags": []
   },
   "source": [
    "# Filling all the missing values using Gaussian Process regression"
   ]
  },
  {
   "cell_type": "code",
   "execution_count": 31,
   "id": "132ff1f4",
   "metadata": {
    "execution": {
     "iopub.execute_input": "2021-12-16T18:23:55.768657Z",
     "iopub.status.busy": "2021-12-16T18:23:55.767667Z",
     "iopub.status.idle": "2021-12-16T18:23:55.771521Z",
     "shell.execute_reply": "2021-12-16T18:23:55.772204Z",
     "shell.execute_reply.started": "2021-12-15T09:08:22.665196Z"
    },
    "papermill": {
     "duration": 0.09502,
     "end_time": "2021-12-16T18:23:55.772385",
     "exception": false,
     "start_time": "2021-12-16T18:23:55.677365",
     "status": "completed"
    },
    "tags": []
   },
   "outputs": [],
   "source": [
    "# Since, the alternate valuse are msising so I have used this function to create the final filled column\n",
    "# By joining the predictions and already filled values alternately\n",
    "def alternateMerge(arr1, arr2, n1, n2, arr3) :\n",
    "    i = 0; j = 0; k = 0\n",
    " \n",
    "    # Traverse both array\n",
    "    while (i < n1 and j < n2) :\n",
    "        arr3[k] = arr1[i]\n",
    "        i += 1\n",
    "        k += 1\n",
    "         \n",
    "        arr3[k] = arr2[j]\n",
    "        j += 1\n",
    "        k += 1\n",
    "     \n",
    " \n",
    "    # Store remaining elements of first array\n",
    "    while (i < n1) :\n",
    "        arr3[k] = arr1[i]\n",
    "        i += 1\n",
    "        k += 1\n",
    " \n",
    "    # Store remaining elements of second array\n",
    "    while (j < n2) :\n",
    "        arr3[k] = arr2[j]\n",
    "        k += 1\n",
    "        j += 1\n",
    "         \n",
    "    return arr3\n",
    "# Driver code\n",
    "# arr1 = [1, 3, 5, 7, 9, 11]\n",
    "# n1 = len(arr1)\n",
    " \n",
    "# arr2 = [2, 4, 6, 8]\n",
    "# n2 = len(arr2)\n",
    " \n",
    "# arr3= [0] *(n1 + n2)\n",
    "# alternateMerge(arr1, arr2, n1, n2, arr3)"
   ]
  },
  {
   "cell_type": "markdown",
   "id": "d911205b",
   "metadata": {
    "papermill": {
     "duration": 0.091561,
     "end_time": "2021-12-16T18:23:55.954823",
     "exception": false,
     "start_time": "2021-12-16T18:23:55.863262",
     "status": "completed"
    },
    "tags": []
   },
   "source": [
    "**This \"filling\" function will make the predictions using gaussian preocess for the missing values and will return an array containing all the values**"
   ]
  },
  {
   "cell_type": "code",
   "execution_count": 32,
   "id": "863a6edb",
   "metadata": {
    "execution": {
     "iopub.execute_input": "2021-12-16T18:23:56.133032Z",
     "iopub.status.busy": "2021-12-16T18:23:56.132200Z",
     "iopub.status.idle": "2021-12-16T18:23:56.135108Z",
     "shell.execute_reply": "2021-12-16T18:23:56.135620Z",
     "shell.execute_reply.started": "2021-12-15T10:09:59.952522Z"
    },
    "papermill": {
     "duration": 0.093055,
     "end_time": "2021-12-16T18:23:56.135801",
     "exception": false,
     "start_time": "2021-12-16T18:23:56.042746",
     "status": "completed"
    },
    "tags": []
   },
   "outputs": [],
   "source": [
    "def filling(col): \n",
    "    y_train = np.atleast_2d(df_scaled.dropna()[col]).T   \n",
    "#     y_train = scaler2.fit_transform(y_train)\n",
    "    \n",
    "    with joblib.parallel_backend('dask'):\n",
    "        gp.fit(X_train[::10], y_train[::10])\n",
    "\n",
    "    y_pred = gp.predict(X_test)\n",
    "    \n",
    "    train_len = y_train.shape[0]\n",
    "    pred_len = y_pred.shape[0]\n",
    "    final = [0] *(train_len + pred_len)\n",
    "    return alternateMerge(y_train, y_pred, train_len, pred_len, final)\n",
    "#     return np.vstack((np.array(y_train).flatten(),np.array(y_pred).flatten())).ravel('F')\n",
    "#     return scaler2.inverse_transform(np.vstack((y_train,y_pred)).ravel('F'))"
   ]
  },
  {
   "cell_type": "markdown",
   "id": "15179cc0",
   "metadata": {
    "papermill": {
     "duration": 0.081639,
     "end_time": "2021-12-16T18:23:56.298819",
     "exception": false,
     "start_time": "2021-12-16T18:23:56.217180",
     "status": "completed"
    },
    "tags": []
   },
   "source": [
    "**The index 0 - 87839 will be the X_train and X_test for filled and missing values repectively as the data is taken every minute so considering \"2019-08-01 00:00:00\" as \"0\" and \"2019-09-30 23:59:00\" as 87839**"
   ]
  },
  {
   "cell_type": "code",
   "execution_count": 33,
   "id": "f0485121",
   "metadata": {
    "execution": {
     "iopub.execute_input": "2021-12-16T18:23:56.469516Z",
     "iopub.status.busy": "2021-12-16T18:23:56.468797Z",
     "iopub.status.idle": "2021-12-16T18:23:56.474168Z",
     "shell.execute_reply": "2021-12-16T18:23:56.474961Z",
     "shell.execute_reply.started": "2021-12-15T10:10:05.937625Z"
    },
    "papermill": {
     "duration": 0.093434,
     "end_time": "2021-12-16T18:23:56.475143",
     "exception": false,
     "start_time": "2021-12-16T18:23:56.381709",
     "status": "completed"
    },
    "tags": []
   },
   "outputs": [],
   "source": [
    "# X_test = np.atleast_2d(df_scaled[df_scaled.isnull().any(axis=1)][\"index\"]).T\n",
    "# X_train = np.atleast_2d(df_scaled.dropna()[\"index\"]).T\n",
    "# # X_test = df_scaled[df_scaled.isnull().any(axis=1)][[\"index\"]]\n",
    "# # X_train = df_scaled.dropna()[[\"index\"]]\n",
    "# data = pd.DataFrame()\n",
    "# # data[\"Timestamps\"] = df_scaled[\"0\"]\n",
    "\n",
    "\n",
    "# for i in tqdm(cols[1:]):\n",
    "#     column = filling(i)\n",
    "#     print(len(column))\n",
    "#     data[i] = column"
   ]
  },
  {
   "cell_type": "code",
   "execution_count": 34,
   "id": "da9a9318",
   "metadata": {
    "execution": {
     "iopub.execute_input": "2021-12-16T18:23:56.642205Z",
     "iopub.status.busy": "2021-12-16T18:23:56.641457Z",
     "iopub.status.idle": "2021-12-16T18:23:56.645579Z",
     "shell.execute_reply": "2021-12-16T18:23:56.646071Z",
     "shell.execute_reply.started": "2021-12-15T10:39:50.874505Z"
    },
    "papermill": {
     "duration": 0.08949,
     "end_time": "2021-12-16T18:23:56.646248",
     "exception": false,
     "start_time": "2021-12-16T18:23:56.556758",
     "status": "completed"
    },
    "tags": []
   },
   "outputs": [],
   "source": [
    "# data.head()"
   ]
  },
  {
   "cell_type": "code",
   "execution_count": 35,
   "id": "2244a101",
   "metadata": {
    "execution": {
     "iopub.execute_input": "2021-12-16T18:23:56.811806Z",
     "iopub.status.busy": "2021-12-16T18:23:56.810896Z",
     "iopub.status.idle": "2021-12-16T18:23:56.813749Z",
     "shell.execute_reply": "2021-12-16T18:23:56.814275Z",
     "shell.execute_reply.started": "2021-12-15T10:40:25.959248Z"
    },
    "papermill": {
     "duration": 0.086563,
     "end_time": "2021-12-16T18:23:56.814446",
     "exception": false,
     "start_time": "2021-12-16T18:23:56.727883",
     "status": "completed"
    },
    "tags": []
   },
   "outputs": [],
   "source": [
    "# for i in cols[1:]:\n",
    "#     data[i] = data[i].map(lambda a: a[0])"
   ]
  },
  {
   "cell_type": "code",
   "execution_count": 36,
   "id": "deee756f",
   "metadata": {
    "execution": {
     "iopub.execute_input": "2021-12-16T18:23:56.997546Z",
     "iopub.status.busy": "2021-12-16T18:23:56.996511Z",
     "iopub.status.idle": "2021-12-16T18:23:56.999259Z",
     "shell.execute_reply": "2021-12-16T18:23:56.998464Z",
     "shell.execute_reply.started": "2021-12-15T10:41:34.931873Z"
    },
    "papermill": {
     "duration": 0.09554,
     "end_time": "2021-12-16T18:23:56.999434",
     "exception": false,
     "start_time": "2021-12-16T18:23:56.903894",
     "status": "completed"
    },
    "tags": []
   },
   "outputs": [],
   "source": [
    "# data.shape"
   ]
  },
  {
   "cell_type": "code",
   "execution_count": 37,
   "id": "1136f365",
   "metadata": {
    "execution": {
     "iopub.execute_input": "2021-12-16T18:23:57.170764Z",
     "iopub.status.busy": "2021-12-16T18:23:57.170093Z",
     "iopub.status.idle": "2021-12-16T18:23:57.173504Z",
     "shell.execute_reply": "2021-12-16T18:23:57.172899Z",
     "shell.execute_reply.started": "2021-12-15T08:03:44.962901Z"
    },
    "papermill": {
     "duration": 0.088673,
     "end_time": "2021-12-16T18:23:57.173661",
     "exception": false,
     "start_time": "2021-12-16T18:23:57.084988",
     "status": "completed"
    },
    "tags": []
   },
   "outputs": [],
   "source": [
    "# df_scaled[\"AC 1\"].dropna()"
   ]
  },
  {
   "cell_type": "code",
   "execution_count": 38,
   "id": "601cc85d",
   "metadata": {
    "execution": {
     "iopub.execute_input": "2021-12-16T18:23:57.341865Z",
     "iopub.status.busy": "2021-12-16T18:23:57.341210Z",
     "iopub.status.idle": "2021-12-16T18:23:57.344505Z",
     "shell.execute_reply": "2021-12-16T18:23:57.343846Z",
     "shell.execute_reply.started": "2021-12-15T10:05:28.149491Z"
    },
    "papermill": {
     "duration": 0.087139,
     "end_time": "2021-12-16T18:23:57.344642",
     "exception": false,
     "start_time": "2021-12-16T18:23:57.257503",
     "status": "completed"
    },
    "tags": []
   },
   "outputs": [],
   "source": [
    "# data.shape"
   ]
  },
  {
   "cell_type": "code",
   "execution_count": 39,
   "id": "ad414f08",
   "metadata": {
    "execution": {
     "iopub.execute_input": "2021-12-16T18:23:57.509157Z",
     "iopub.status.busy": "2021-12-16T18:23:57.507490Z",
     "iopub.status.idle": "2021-12-16T18:23:57.511594Z",
     "shell.execute_reply": "2021-12-16T18:23:57.512135Z",
     "shell.execute_reply.started": "2021-12-14T18:23:02.536528Z"
    },
    "papermill": {
     "duration": 0.087374,
     "end_time": "2021-12-16T18:23:57.512310",
     "exception": false,
     "start_time": "2021-12-16T18:23:57.424936",
     "status": "completed"
    },
    "tags": []
   },
   "outputs": [],
   "source": [
    "# data.describe()"
   ]
  },
  {
   "cell_type": "code",
   "execution_count": 40,
   "id": "cabe4fdb",
   "metadata": {
    "execution": {
     "iopub.execute_input": "2021-12-16T18:23:57.679545Z",
     "iopub.status.busy": "2021-12-16T18:23:57.678782Z",
     "iopub.status.idle": "2021-12-16T18:23:57.682932Z",
     "shell.execute_reply": "2021-12-16T18:23:57.683522Z",
     "shell.execute_reply.started": "2021-12-15T10:41:46.477597Z"
    },
    "papermill": {
     "duration": 0.088565,
     "end_time": "2021-12-16T18:23:57.683698",
     "exception": false,
     "start_time": "2021-12-16T18:23:57.595133",
     "status": "completed"
    },
    "tags": []
   },
   "outputs": [],
   "source": [
    "# data.insert(0, \"index\", df_scaled[\"index\"])"
   ]
  },
  {
   "cell_type": "code",
   "execution_count": 41,
   "id": "68ba017b",
   "metadata": {
    "execution": {
     "iopub.execute_input": "2021-12-16T18:23:57.852245Z",
     "iopub.status.busy": "2021-12-16T18:23:57.850744Z",
     "iopub.status.idle": "2021-12-16T18:23:57.854625Z",
     "shell.execute_reply": "2021-12-16T18:23:57.855160Z",
     "shell.execute_reply.started": "2021-12-15T10:41:47.368558Z"
    },
    "papermill": {
     "duration": 0.090753,
     "end_time": "2021-12-16T18:23:57.855325",
     "exception": false,
     "start_time": "2021-12-16T18:23:57.764572",
     "status": "completed"
    },
    "tags": []
   },
   "outputs": [],
   "source": [
    "# data.head()"
   ]
  },
  {
   "cell_type": "code",
   "execution_count": 42,
   "id": "bdb955e4",
   "metadata": {
    "execution": {
     "iopub.execute_input": "2021-12-16T18:23:58.031804Z",
     "iopub.status.busy": "2021-12-16T18:23:58.030513Z",
     "iopub.status.idle": "2021-12-16T18:23:58.054198Z",
     "shell.execute_reply": "2021-12-16T18:23:58.053561Z",
     "shell.execute_reply.started": "2021-12-15T10:47:28.268795Z"
    },
    "papermill": {
     "duration": 0.118347,
     "end_time": "2021-12-16T18:23:58.054346",
     "exception": false,
     "start_time": "2021-12-16T18:23:57.935999",
     "status": "completed"
    },
    "tags": []
   },
   "outputs": [
    {
     "data": {
      "text/html": [
       "<div>\n",
       "<style scoped>\n",
       "    .dataframe tbody tr th:only-of-type {\n",
       "        vertical-align: middle;\n",
       "    }\n",
       "\n",
       "    .dataframe tbody tr th {\n",
       "        vertical-align: top;\n",
       "    }\n",
       "\n",
       "    .dataframe thead th {\n",
       "        text-align: right;\n",
       "    }\n",
       "</style>\n",
       "<table border=\"1\" class=\"dataframe\">\n",
       "  <thead>\n",
       "    <tr style=\"text-align: right;\">\n",
       "      <th></th>\n",
       "      <th>index</th>\n",
       "      <th>0</th>\n",
       "      <th>AC 1</th>\n",
       "      <th>AC 2</th>\n",
       "      <th>AC 3</th>\n",
       "      <th>AC 4</th>\n",
       "      <th>AC 5</th>\n",
       "      <th>AC 6</th>\n",
       "      <th>AC 7</th>\n",
       "      <th>AC 8</th>\n",
       "      <th>AC 9</th>\n",
       "      <th>AC 10</th>\n",
       "      <th>AC 11</th>\n",
       "      <th>AC 12</th>\n",
       "      <th>AC 13</th>\n",
       "      <th>AC 14</th>\n",
       "      <th>AC 15</th>\n",
       "      <th>AC 16</th>\n",
       "      <th>AC 17</th>\n",
       "      <th>AC 18</th>\n",
       "    </tr>\n",
       "  </thead>\n",
       "  <tbody>\n",
       "    <tr>\n",
       "      <th>0</th>\n",
       "      <td>0</td>\n",
       "      <td>2019-08-01 00:00:00</td>\n",
       "      <td>7.518632</td>\n",
       "      <td>8.788315</td>\n",
       "      <td>0.0</td>\n",
       "      <td>0.0</td>\n",
       "      <td>2.617045</td>\n",
       "      <td>4.079041</td>\n",
       "      <td>2.782276</td>\n",
       "      <td>4.624447</td>\n",
       "      <td>5.222060</td>\n",
       "      <td>2.151238</td>\n",
       "      <td>1.585072</td>\n",
       "      <td>0.560373</td>\n",
       "      <td>3.142941</td>\n",
       "      <td>2.749470</td>\n",
       "      <td>5.417774</td>\n",
       "      <td>4.113460</td>\n",
       "      <td>3.305072</td>\n",
       "      <td>6.735981</td>\n",
       "    </tr>\n",
       "    <tr>\n",
       "      <th>1</th>\n",
       "      <td>1</td>\n",
       "      <td>2019-08-01 00:01:00</td>\n",
       "      <td>NaN</td>\n",
       "      <td>NaN</td>\n",
       "      <td>NaN</td>\n",
       "      <td>NaN</td>\n",
       "      <td>NaN</td>\n",
       "      <td>NaN</td>\n",
       "      <td>NaN</td>\n",
       "      <td>NaN</td>\n",
       "      <td>NaN</td>\n",
       "      <td>NaN</td>\n",
       "      <td>NaN</td>\n",
       "      <td>NaN</td>\n",
       "      <td>NaN</td>\n",
       "      <td>NaN</td>\n",
       "      <td>NaN</td>\n",
       "      <td>NaN</td>\n",
       "      <td>NaN</td>\n",
       "      <td>NaN</td>\n",
       "    </tr>\n",
       "    <tr>\n",
       "      <th>2</th>\n",
       "      <td>2</td>\n",
       "      <td>2019-08-01 00:02:00</td>\n",
       "      <td>7.426114</td>\n",
       "      <td>8.940615</td>\n",
       "      <td>0.0</td>\n",
       "      <td>0.0</td>\n",
       "      <td>2.581625</td>\n",
       "      <td>3.781231</td>\n",
       "      <td>2.529366</td>\n",
       "      <td>5.057423</td>\n",
       "      <td>5.349465</td>\n",
       "      <td>2.414715</td>\n",
       "      <td>2.168184</td>\n",
       "      <td>1.818730</td>\n",
       "      <td>3.085110</td>\n",
       "      <td>2.720484</td>\n",
       "      <td>3.302422</td>\n",
       "      <td>3.986483</td>\n",
       "      <td>3.220588</td>\n",
       "      <td>6.379500</td>\n",
       "    </tr>\n",
       "    <tr>\n",
       "      <th>3</th>\n",
       "      <td>3</td>\n",
       "      <td>2019-08-01 00:03:00</td>\n",
       "      <td>NaN</td>\n",
       "      <td>NaN</td>\n",
       "      <td>NaN</td>\n",
       "      <td>NaN</td>\n",
       "      <td>NaN</td>\n",
       "      <td>NaN</td>\n",
       "      <td>NaN</td>\n",
       "      <td>NaN</td>\n",
       "      <td>NaN</td>\n",
       "      <td>NaN</td>\n",
       "      <td>NaN</td>\n",
       "      <td>NaN</td>\n",
       "      <td>NaN</td>\n",
       "      <td>NaN</td>\n",
       "      <td>NaN</td>\n",
       "      <td>NaN</td>\n",
       "      <td>NaN</td>\n",
       "      <td>NaN</td>\n",
       "    </tr>\n",
       "    <tr>\n",
       "      <th>4</th>\n",
       "      <td>4</td>\n",
       "      <td>2019-08-01 00:04:00</td>\n",
       "      <td>7.052986</td>\n",
       "      <td>9.161103</td>\n",
       "      <td>0.0</td>\n",
       "      <td>0.0</td>\n",
       "      <td>2.592095</td>\n",
       "      <td>3.800127</td>\n",
       "      <td>2.332304</td>\n",
       "      <td>6.322521</td>\n",
       "      <td>3.995392</td>\n",
       "      <td>2.237114</td>\n",
       "      <td>3.345624</td>\n",
       "      <td>2.310409</td>\n",
       "      <td>3.132799</td>\n",
       "      <td>2.676861</td>\n",
       "      <td>3.539026</td>\n",
       "      <td>3.797881</td>\n",
       "      <td>3.131560</td>\n",
       "      <td>6.363475</td>\n",
       "    </tr>\n",
       "  </tbody>\n",
       "</table>\n",
       "</div>"
      ],
      "text/plain": [
       "   index                   0      AC 1      AC 2  AC 3  AC 4      AC 5  \\\n",
       "0      0 2019-08-01 00:00:00  7.518632  8.788315   0.0   0.0  2.617045   \n",
       "1      1 2019-08-01 00:01:00       NaN       NaN   NaN   NaN       NaN   \n",
       "2      2 2019-08-01 00:02:00  7.426114  8.940615   0.0   0.0  2.581625   \n",
       "3      3 2019-08-01 00:03:00       NaN       NaN   NaN   NaN       NaN   \n",
       "4      4 2019-08-01 00:04:00  7.052986  9.161103   0.0   0.0  2.592095   \n",
       "\n",
       "       AC 6      AC 7      AC 8      AC 9     AC 10     AC 11     AC 12  \\\n",
       "0  4.079041  2.782276  4.624447  5.222060  2.151238  1.585072  0.560373   \n",
       "1       NaN       NaN       NaN       NaN       NaN       NaN       NaN   \n",
       "2  3.781231  2.529366  5.057423  5.349465  2.414715  2.168184  1.818730   \n",
       "3       NaN       NaN       NaN       NaN       NaN       NaN       NaN   \n",
       "4  3.800127  2.332304  6.322521  3.995392  2.237114  3.345624  2.310409   \n",
       "\n",
       "      AC 13     AC 14     AC 15     AC 16     AC 17     AC 18  \n",
       "0  3.142941  2.749470  5.417774  4.113460  3.305072  6.735981  \n",
       "1       NaN       NaN       NaN       NaN       NaN       NaN  \n",
       "2  3.085110  2.720484  3.302422  3.986483  3.220588  6.379500  \n",
       "3       NaN       NaN       NaN       NaN       NaN       NaN  \n",
       "4  3.132799  2.676861  3.539026  3.797881  3.131560  6.363475  "
      ]
     },
     "execution_count": 42,
     "metadata": {},
     "output_type": "execute_result"
    }
   ],
   "source": [
    "df.head(5)"
   ]
  },
  {
   "cell_type": "markdown",
   "id": "5dca8568",
   "metadata": {
    "papermill": {
     "duration": 0.081902,
     "end_time": "2021-12-16T18:23:58.219934",
     "exception": false,
     "start_time": "2021-12-16T18:23:58.138032",
     "status": "completed"
    },
    "tags": []
   },
   "source": [
    "**Doing inverse transformation of the standardisation to get the original values back**"
   ]
  },
  {
   "cell_type": "code",
   "execution_count": 43,
   "id": "ce664fe0",
   "metadata": {
    "execution": {
     "iopub.execute_input": "2021-12-16T18:23:58.389315Z",
     "iopub.status.busy": "2021-12-16T18:23:58.386841Z",
     "iopub.status.idle": "2021-12-16T18:23:58.392800Z",
     "shell.execute_reply": "2021-12-16T18:23:58.393384Z",
     "shell.execute_reply.started": "2021-12-15T10:44:47.1433Z"
    },
    "papermill": {
     "duration": 0.091578,
     "end_time": "2021-12-16T18:23:58.393596",
     "exception": false,
     "start_time": "2021-12-16T18:23:58.302018",
     "status": "completed"
    },
    "tags": []
   },
   "outputs": [],
   "source": [
    "# new_data = pd.DataFrame(scaler.inverse_transform(data), columns = data.columns)"
   ]
  },
  {
   "cell_type": "code",
   "execution_count": 44,
   "id": "e1178e0b",
   "metadata": {
    "execution": {
     "iopub.execute_input": "2021-12-16T18:23:58.576746Z",
     "iopub.status.busy": "2021-12-16T18:23:58.575921Z",
     "iopub.status.idle": "2021-12-16T18:23:58.579186Z",
     "shell.execute_reply": "2021-12-16T18:23:58.578448Z",
     "shell.execute_reply.started": "2021-12-15T10:44:56.671146Z"
    },
    "papermill": {
     "duration": 0.092213,
     "end_time": "2021-12-16T18:23:58.579347",
     "exception": false,
     "start_time": "2021-12-16T18:23:58.487134",
     "status": "completed"
    },
    "tags": []
   },
   "outputs": [],
   "source": [
    "# new_data.shape"
   ]
  },
  {
   "cell_type": "code",
   "execution_count": 45,
   "id": "71e55f93",
   "metadata": {
    "execution": {
     "iopub.execute_input": "2021-12-16T18:23:58.753079Z",
     "iopub.status.busy": "2021-12-16T18:23:58.752398Z",
     "iopub.status.idle": "2021-12-16T18:23:58.754122Z",
     "shell.execute_reply": "2021-12-16T18:23:58.754707Z",
     "shell.execute_reply.started": "2021-12-15T10:47:00.98137Z"
    },
    "papermill": {
     "duration": 0.092674,
     "end_time": "2021-12-16T18:23:58.754870",
     "exception": false,
     "start_time": "2021-12-16T18:23:58.662196",
     "status": "completed"
    },
    "tags": []
   },
   "outputs": [],
   "source": [
    "# new_data.head(3)"
   ]
  },
  {
   "cell_type": "code",
   "execution_count": 46,
   "id": "074a4f8a",
   "metadata": {
    "execution": {
     "iopub.execute_input": "2021-12-16T18:23:58.928030Z",
     "iopub.status.busy": "2021-12-16T18:23:58.926468Z",
     "iopub.status.idle": "2021-12-16T18:23:58.930906Z",
     "shell.execute_reply": "2021-12-16T18:23:58.932065Z",
     "shell.execute_reply.started": "2021-12-15T10:55:46.75967Z"
    },
    "papermill": {
     "duration": 0.091702,
     "end_time": "2021-12-16T18:23:58.932248",
     "exception": false,
     "start_time": "2021-12-16T18:23:58.840546",
     "status": "completed"
    },
    "tags": []
   },
   "outputs": [],
   "source": [
    "# new_data.insert(1, \"Timestamp\", df[\"0\"])"
   ]
  },
  {
   "cell_type": "code",
   "execution_count": 47,
   "id": "5aed0075",
   "metadata": {
    "execution": {
     "iopub.execute_input": "2021-12-16T18:23:59.106885Z",
     "iopub.status.busy": "2021-12-16T18:23:59.105477Z",
     "iopub.status.idle": "2021-12-16T18:23:59.110277Z",
     "shell.execute_reply": "2021-12-16T18:23:59.109670Z",
     "shell.execute_reply.started": "2021-12-15T10:58:30.228146Z"
    },
    "papermill": {
     "duration": 0.089624,
     "end_time": "2021-12-16T18:23:59.110419",
     "exception": false,
     "start_time": "2021-12-16T18:23:59.020795",
     "status": "completed"
    },
    "tags": []
   },
   "outputs": [],
   "source": [
    "# new_data.head(3)"
   ]
  },
  {
   "cell_type": "code",
   "execution_count": 48,
   "id": "28a8fd36",
   "metadata": {
    "execution": {
     "iopub.execute_input": "2021-12-16T18:23:59.273888Z",
     "iopub.status.busy": "2021-12-16T18:23:59.272094Z",
     "iopub.status.idle": "2021-12-16T18:23:59.277026Z",
     "shell.execute_reply": "2021-12-16T18:23:59.276335Z",
     "shell.execute_reply.started": "2021-12-15T10:58:41.781052Z"
    },
    "papermill": {
     "duration": 0.087093,
     "end_time": "2021-12-16T18:23:59.277173",
     "exception": false,
     "start_time": "2021-12-16T18:23:59.190080",
     "status": "completed"
    },
    "tags": []
   },
   "outputs": [],
   "source": [
    "# new_data.shape"
   ]
  },
  {
   "cell_type": "code",
   "execution_count": 49,
   "id": "82a96358",
   "metadata": {
    "execution": {
     "iopub.execute_input": "2021-12-16T18:23:59.445787Z",
     "iopub.status.busy": "2021-12-16T18:23:59.445148Z",
     "iopub.status.idle": "2021-12-16T18:23:59.447536Z",
     "shell.execute_reply": "2021-12-16T18:23:59.448195Z",
     "shell.execute_reply.started": "2021-12-15T10:59:49.018661Z"
    },
    "papermill": {
     "duration": 0.089913,
     "end_time": "2021-12-16T18:23:59.448361",
     "exception": false,
     "start_time": "2021-12-16T18:23:59.358448",
     "status": "completed"
    },
    "tags": []
   },
   "outputs": [],
   "source": [
    "# new_data.to_csv(\"another_data.csv\", index = False)"
   ]
  },
  {
   "cell_type": "code",
   "execution_count": 50,
   "id": "11787ec1",
   "metadata": {
    "execution": {
     "iopub.execute_input": "2021-12-16T18:23:59.611260Z",
     "iopub.status.busy": "2021-12-16T18:23:59.610520Z",
     "iopub.status.idle": "2021-12-16T18:24:00.474605Z",
     "shell.execute_reply": "2021-12-16T18:24:00.475187Z",
     "shell.execute_reply.started": "2021-12-16T17:25:15.563812Z"
    },
    "papermill": {
     "duration": 0.947901,
     "end_time": "2021-12-16T18:24:00.475362",
     "exception": false,
     "start_time": "2021-12-16T18:23:59.527461",
     "status": "completed"
    },
    "tags": []
   },
   "outputs": [],
   "source": [
    "final = pd.read_csv(\"../input/complete/another_data.csv\")"
   ]
  },
  {
   "cell_type": "markdown",
   "id": "60632dce",
   "metadata": {
    "papermill": {
     "duration": 0.080319,
     "end_time": "2021-12-16T18:24:00.640411",
     "exception": false,
     "start_time": "2021-12-16T18:24:00.560092",
     "status": "completed"
    },
    "tags": []
   },
   "source": [
    "**Here is the glimpse of the final data after filling the missing values using Gaussian process <br>\n",
    "We can also see here that some values are negative and power consumption can never be negative**"
   ]
  },
  {
   "cell_type": "code",
   "execution_count": 51,
   "id": "981ffe69",
   "metadata": {
    "execution": {
     "iopub.execute_input": "2021-12-16T18:24:00.806359Z",
     "iopub.status.busy": "2021-12-16T18:24:00.805700Z",
     "iopub.status.idle": "2021-12-16T18:24:00.835206Z",
     "shell.execute_reply": "2021-12-16T18:24:00.835756Z",
     "shell.execute_reply.started": "2021-12-16T17:25:16.391188Z"
    },
    "papermill": {
     "duration": 0.115223,
     "end_time": "2021-12-16T18:24:00.835965",
     "exception": false,
     "start_time": "2021-12-16T18:24:00.720742",
     "status": "completed"
    },
    "tags": []
   },
   "outputs": [
    {
     "data": {
      "text/html": [
       "<div>\n",
       "<style scoped>\n",
       "    .dataframe tbody tr th:only-of-type {\n",
       "        vertical-align: middle;\n",
       "    }\n",
       "\n",
       "    .dataframe tbody tr th {\n",
       "        vertical-align: top;\n",
       "    }\n",
       "\n",
       "    .dataframe thead th {\n",
       "        text-align: right;\n",
       "    }\n",
       "</style>\n",
       "<table border=\"1\" class=\"dataframe\">\n",
       "  <thead>\n",
       "    <tr style=\"text-align: right;\">\n",
       "      <th></th>\n",
       "      <th>index</th>\n",
       "      <th>Timestamp</th>\n",
       "      <th>AC 1</th>\n",
       "      <th>AC 2</th>\n",
       "      <th>AC 3</th>\n",
       "      <th>AC 4</th>\n",
       "      <th>AC 5</th>\n",
       "      <th>AC 6</th>\n",
       "      <th>AC 7</th>\n",
       "      <th>AC 8</th>\n",
       "      <th>AC 9</th>\n",
       "      <th>AC 10</th>\n",
       "      <th>AC 11</th>\n",
       "      <th>AC 12</th>\n",
       "      <th>AC 13</th>\n",
       "      <th>AC 14</th>\n",
       "      <th>AC 15</th>\n",
       "      <th>AC 16</th>\n",
       "      <th>AC 17</th>\n",
       "      <th>AC 18</th>\n",
       "    </tr>\n",
       "  </thead>\n",
       "  <tbody>\n",
       "    <tr>\n",
       "      <th>0</th>\n",
       "      <td>0.0</td>\n",
       "      <td>2019-08-01 00:00:00</td>\n",
       "      <td>7.518632</td>\n",
       "      <td>8.788315</td>\n",
       "      <td>0.000000</td>\n",
       "      <td>0.000000</td>\n",
       "      <td>2.617045</td>\n",
       "      <td>4.079041</td>\n",
       "      <td>2.782276</td>\n",
       "      <td>4.624447</td>\n",
       "      <td>5.222060</td>\n",
       "      <td>2.151238</td>\n",
       "      <td>1.585072</td>\n",
       "      <td>0.560373</td>\n",
       "      <td>3.142941</td>\n",
       "      <td>2.749470</td>\n",
       "      <td>5.417774</td>\n",
       "      <td>4.113460</td>\n",
       "      <td>3.305072</td>\n",
       "      <td>6.735981</td>\n",
       "    </tr>\n",
       "    <tr>\n",
       "      <th>1</th>\n",
       "      <td>1.0</td>\n",
       "      <td>2019-08-01 00:01:00</td>\n",
       "      <td>7.341986</td>\n",
       "      <td>8.869652</td>\n",
       "      <td>0.207528</td>\n",
       "      <td>-0.099235</td>\n",
       "      <td>2.593492</td>\n",
       "      <td>4.070208</td>\n",
       "      <td>2.765041</td>\n",
       "      <td>4.675383</td>\n",
       "      <td>5.170101</td>\n",
       "      <td>2.285380</td>\n",
       "      <td>1.553008</td>\n",
       "      <td>1.004822</td>\n",
       "      <td>3.356319</td>\n",
       "      <td>2.827610</td>\n",
       "      <td>5.451596</td>\n",
       "      <td>3.925502</td>\n",
       "      <td>3.399600</td>\n",
       "      <td>6.925839</td>\n",
       "    </tr>\n",
       "    <tr>\n",
       "      <th>2</th>\n",
       "      <td>2.0</td>\n",
       "      <td>2019-08-01 00:02:00</td>\n",
       "      <td>7.426114</td>\n",
       "      <td>8.940615</td>\n",
       "      <td>0.000000</td>\n",
       "      <td>0.000000</td>\n",
       "      <td>2.581625</td>\n",
       "      <td>3.781231</td>\n",
       "      <td>2.529366</td>\n",
       "      <td>5.057423</td>\n",
       "      <td>5.349465</td>\n",
       "      <td>2.414715</td>\n",
       "      <td>2.168184</td>\n",
       "      <td>1.818730</td>\n",
       "      <td>3.085110</td>\n",
       "      <td>2.720484</td>\n",
       "      <td>3.302422</td>\n",
       "      <td>3.986483</td>\n",
       "      <td>3.220588</td>\n",
       "      <td>6.379500</td>\n",
       "    </tr>\n",
       "    <tr>\n",
       "      <th>3</th>\n",
       "      <td>3.0</td>\n",
       "      <td>2019-08-01 00:03:00</td>\n",
       "      <td>7.141880</td>\n",
       "      <td>8.807515</td>\n",
       "      <td>0.441401</td>\n",
       "      <td>-0.079926</td>\n",
       "      <td>2.560526</td>\n",
       "      <td>4.065357</td>\n",
       "      <td>2.622586</td>\n",
       "      <td>4.715786</td>\n",
       "      <td>4.910319</td>\n",
       "      <td>2.522343</td>\n",
       "      <td>1.513539</td>\n",
       "      <td>1.591031</td>\n",
       "      <td>3.681013</td>\n",
       "      <td>3.058494</td>\n",
       "      <td>5.547122</td>\n",
       "      <td>3.728646</td>\n",
       "      <td>3.278150</td>\n",
       "      <td>7.050406</td>\n",
       "    </tr>\n",
       "    <tr>\n",
       "      <th>4</th>\n",
       "      <td>4.0</td>\n",
       "      <td>2019-08-01 00:04:00</td>\n",
       "      <td>7.052986</td>\n",
       "      <td>9.161103</td>\n",
       "      <td>0.000000</td>\n",
       "      <td>0.000000</td>\n",
       "      <td>2.592095</td>\n",
       "      <td>3.800127</td>\n",
       "      <td>2.332304</td>\n",
       "      <td>6.322521</td>\n",
       "      <td>3.995392</td>\n",
       "      <td>2.237114</td>\n",
       "      <td>3.345624</td>\n",
       "      <td>2.310409</td>\n",
       "      <td>3.132799</td>\n",
       "      <td>2.676861</td>\n",
       "      <td>3.539026</td>\n",
       "      <td>3.797881</td>\n",
       "      <td>3.131560</td>\n",
       "      <td>6.363475</td>\n",
       "    </tr>\n",
       "  </tbody>\n",
       "</table>\n",
       "</div>"
      ],
      "text/plain": [
       "   index            Timestamp      AC 1      AC 2      AC 3      AC 4  \\\n",
       "0    0.0  2019-08-01 00:00:00  7.518632  8.788315  0.000000  0.000000   \n",
       "1    1.0  2019-08-01 00:01:00  7.341986  8.869652  0.207528 -0.099235   \n",
       "2    2.0  2019-08-01 00:02:00  7.426114  8.940615  0.000000  0.000000   \n",
       "3    3.0  2019-08-01 00:03:00  7.141880  8.807515  0.441401 -0.079926   \n",
       "4    4.0  2019-08-01 00:04:00  7.052986  9.161103  0.000000  0.000000   \n",
       "\n",
       "       AC 5      AC 6      AC 7      AC 8      AC 9     AC 10     AC 11  \\\n",
       "0  2.617045  4.079041  2.782276  4.624447  5.222060  2.151238  1.585072   \n",
       "1  2.593492  4.070208  2.765041  4.675383  5.170101  2.285380  1.553008   \n",
       "2  2.581625  3.781231  2.529366  5.057423  5.349465  2.414715  2.168184   \n",
       "3  2.560526  4.065357  2.622586  4.715786  4.910319  2.522343  1.513539   \n",
       "4  2.592095  3.800127  2.332304  6.322521  3.995392  2.237114  3.345624   \n",
       "\n",
       "      AC 12     AC 13     AC 14     AC 15     AC 16     AC 17     AC 18  \n",
       "0  0.560373  3.142941  2.749470  5.417774  4.113460  3.305072  6.735981  \n",
       "1  1.004822  3.356319  2.827610  5.451596  3.925502  3.399600  6.925839  \n",
       "2  1.818730  3.085110  2.720484  3.302422  3.986483  3.220588  6.379500  \n",
       "3  1.591031  3.681013  3.058494  5.547122  3.728646  3.278150  7.050406  \n",
       "4  2.310409  3.132799  2.676861  3.539026  3.797881  3.131560  6.363475  "
      ]
     },
     "execution_count": 51,
     "metadata": {},
     "output_type": "execute_result"
    }
   ],
   "source": [
    "final.head()"
   ]
  },
  {
   "cell_type": "code",
   "execution_count": 52,
   "id": "482b5aa2",
   "metadata": {
    "execution": {
     "iopub.execute_input": "2021-12-16T18:24:01.008919Z",
     "iopub.status.busy": "2021-12-16T18:24:01.007974Z",
     "iopub.status.idle": "2021-12-16T18:24:01.011318Z",
     "shell.execute_reply": "2021-12-16T18:24:01.010726Z",
     "shell.execute_reply.started": "2021-12-16T17:25:16.833431Z"
    },
    "papermill": {
     "duration": 0.092355,
     "end_time": "2021-12-16T18:24:01.011461",
     "exception": false,
     "start_time": "2021-12-16T18:24:00.919106",
     "status": "completed"
    },
    "tags": []
   },
   "outputs": [],
   "source": [
    "timestamp = final[\"Timestamp\"]"
   ]
  },
  {
   "cell_type": "code",
   "execution_count": 53,
   "id": "936162a2",
   "metadata": {
    "execution": {
     "iopub.execute_input": "2021-12-16T18:24:01.180909Z",
     "iopub.status.busy": "2021-12-16T18:24:01.180227Z",
     "iopub.status.idle": "2021-12-16T18:24:01.192653Z",
     "shell.execute_reply": "2021-12-16T18:24:01.191555Z"
    },
    "papermill": {
     "duration": 0.098642,
     "end_time": "2021-12-16T18:24:01.192847",
     "exception": false,
     "start_time": "2021-12-16T18:24:01.094205",
     "status": "completed"
    },
    "tags": []
   },
   "outputs": [],
   "source": [
    "final.drop(\"index\", axis = \"columns\", inplace = True) #index column is not required now"
   ]
  },
  {
   "cell_type": "code",
   "execution_count": 54,
   "id": "f833be02",
   "metadata": {
    "execution": {
     "iopub.execute_input": "2021-12-16T18:24:01.385840Z",
     "iopub.status.busy": "2021-12-16T18:24:01.374660Z",
     "iopub.status.idle": "2021-12-16T18:24:01.389326Z",
     "shell.execute_reply": "2021-12-16T18:24:01.388672Z",
     "shell.execute_reply.started": "2021-12-16T17:25:17.258312Z"
    },
    "papermill": {
     "duration": 0.106628,
     "end_time": "2021-12-16T18:24:01.389477",
     "exception": false,
     "start_time": "2021-12-16T18:24:01.282849",
     "status": "completed"
    },
    "tags": []
   },
   "outputs": [],
   "source": [
    "final.drop(\"Timestamp\", axis = \"columns\", inplace = True)"
   ]
  },
  {
   "cell_type": "code",
   "execution_count": 55,
   "id": "0e220cb0",
   "metadata": {
    "execution": {
     "iopub.execute_input": "2021-12-16T18:24:01.580131Z",
     "iopub.status.busy": "2021-12-16T18:24:01.579135Z",
     "iopub.status.idle": "2021-12-16T18:24:01.596865Z",
     "shell.execute_reply": "2021-12-16T18:24:01.596312Z",
     "shell.execute_reply.started": "2021-12-16T17:25:17.641808Z"
    },
    "papermill": {
     "duration": 0.111204,
     "end_time": "2021-12-16T18:24:01.597042",
     "exception": false,
     "start_time": "2021-12-16T18:24:01.485838",
     "status": "completed"
    },
    "tags": []
   },
   "outputs": [
    {
     "name": "stdout",
     "output_type": "stream",
     "text": [
      "<class 'pandas.core.frame.DataFrame'>\n",
      "RangeIndex: 87840 entries, 0 to 87839\n",
      "Data columns (total 18 columns):\n",
      " #   Column  Non-Null Count  Dtype  \n",
      "---  ------  --------------  -----  \n",
      " 0   AC 1    87840 non-null  float64\n",
      " 1   AC 2    87840 non-null  float64\n",
      " 2   AC 3    87840 non-null  float64\n",
      " 3   AC 4    87840 non-null  float64\n",
      " 4   AC 5    87840 non-null  float64\n",
      " 5   AC 6    87840 non-null  float64\n",
      " 6   AC 7    87840 non-null  float64\n",
      " 7   AC 8    87840 non-null  float64\n",
      " 8   AC 9    87840 non-null  float64\n",
      " 9   AC 10   87840 non-null  float64\n",
      " 10  AC 11   87840 non-null  float64\n",
      " 11  AC 12   87840 non-null  float64\n",
      " 12  AC 13   87840 non-null  float64\n",
      " 13  AC 14   87840 non-null  float64\n",
      " 14  AC 15   87840 non-null  float64\n",
      " 15  AC 16   87840 non-null  float64\n",
      " 16  AC 17   87840 non-null  float64\n",
      " 17  AC 18   87840 non-null  float64\n",
      "dtypes: float64(18)\n",
      "memory usage: 12.1 MB\n"
     ]
    }
   ],
   "source": [
    "final.info()"
   ]
  },
  {
   "cell_type": "markdown",
   "id": "75b8dfbd",
   "metadata": {
    "papermill": {
     "duration": 0.084515,
     "end_time": "2021-12-16T18:24:01.768922",
     "exception": false,
     "start_time": "2021-12-16T18:24:01.684407",
     "status": "completed"
    },
    "tags": []
   },
   "source": [
    "**Replacing the values that are lesser than 0 with 0 and those that are exceeding 11.2 with 11.2**"
   ]
  },
  {
   "cell_type": "code",
   "execution_count": 56,
   "id": "5077b569",
   "metadata": {
    "execution": {
     "iopub.execute_input": "2021-12-16T18:24:01.934036Z",
     "iopub.status.busy": "2021-12-16T18:24:01.933315Z",
     "iopub.status.idle": "2021-12-16T18:24:01.987075Z",
     "shell.execute_reply": "2021-12-16T18:24:01.987571Z",
     "shell.execute_reply.started": "2021-12-16T17:25:18.525142Z"
    },
    "papermill": {
     "duration": 0.137641,
     "end_time": "2021-12-16T18:24:01.987849",
     "exception": false,
     "start_time": "2021-12-16T18:24:01.850208",
     "status": "completed"
    },
    "tags": []
   },
   "outputs": [],
   "source": [
    "final[final < 0] = 0\n",
    "final[final > 11.2] = 11.2"
   ]
  },
  {
   "cell_type": "code",
   "execution_count": 57,
   "id": "f863b4d4",
   "metadata": {
    "execution": {
     "iopub.execute_input": "2021-12-16T18:24:02.157086Z",
     "iopub.status.busy": "2021-12-16T18:24:02.156131Z",
     "iopub.status.idle": "2021-12-16T18:24:02.179302Z",
     "shell.execute_reply": "2021-12-16T18:24:02.178708Z",
     "shell.execute_reply.started": "2021-12-16T17:25:18.914509Z"
    },
    "papermill": {
     "duration": 0.107045,
     "end_time": "2021-12-16T18:24:02.179436",
     "exception": false,
     "start_time": "2021-12-16T18:24:02.072391",
     "status": "completed"
    },
    "tags": []
   },
   "outputs": [
    {
     "data": {
      "text/html": [
       "<div>\n",
       "<style scoped>\n",
       "    .dataframe tbody tr th:only-of-type {\n",
       "        vertical-align: middle;\n",
       "    }\n",
       "\n",
       "    .dataframe tbody tr th {\n",
       "        vertical-align: top;\n",
       "    }\n",
       "\n",
       "    .dataframe thead th {\n",
       "        text-align: right;\n",
       "    }\n",
       "</style>\n",
       "<table border=\"1\" class=\"dataframe\">\n",
       "  <thead>\n",
       "    <tr style=\"text-align: right;\">\n",
       "      <th></th>\n",
       "      <th>AC 1</th>\n",
       "      <th>AC 2</th>\n",
       "      <th>AC 3</th>\n",
       "      <th>AC 4</th>\n",
       "      <th>AC 5</th>\n",
       "      <th>AC 6</th>\n",
       "      <th>AC 7</th>\n",
       "      <th>AC 8</th>\n",
       "      <th>AC 9</th>\n",
       "      <th>AC 10</th>\n",
       "      <th>AC 11</th>\n",
       "      <th>AC 12</th>\n",
       "      <th>AC 13</th>\n",
       "      <th>AC 14</th>\n",
       "      <th>AC 15</th>\n",
       "      <th>AC 16</th>\n",
       "      <th>AC 17</th>\n",
       "      <th>AC 18</th>\n",
       "    </tr>\n",
       "  </thead>\n",
       "  <tbody>\n",
       "    <tr>\n",
       "      <th>0</th>\n",
       "      <td>7.518632</td>\n",
       "      <td>8.788315</td>\n",
       "      <td>0.000000</td>\n",
       "      <td>0.0</td>\n",
       "      <td>2.617045</td>\n",
       "      <td>4.079041</td>\n",
       "      <td>2.782276</td>\n",
       "      <td>4.624447</td>\n",
       "      <td>5.222060</td>\n",
       "      <td>2.151238</td>\n",
       "      <td>1.585072</td>\n",
       "      <td>0.560373</td>\n",
       "      <td>3.142941</td>\n",
       "      <td>2.749470</td>\n",
       "      <td>5.417774</td>\n",
       "      <td>4.113460</td>\n",
       "      <td>3.305072</td>\n",
       "      <td>6.735981</td>\n",
       "    </tr>\n",
       "    <tr>\n",
       "      <th>1</th>\n",
       "      <td>7.341986</td>\n",
       "      <td>8.869652</td>\n",
       "      <td>0.207528</td>\n",
       "      <td>0.0</td>\n",
       "      <td>2.593492</td>\n",
       "      <td>4.070208</td>\n",
       "      <td>2.765041</td>\n",
       "      <td>4.675383</td>\n",
       "      <td>5.170101</td>\n",
       "      <td>2.285380</td>\n",
       "      <td>1.553008</td>\n",
       "      <td>1.004822</td>\n",
       "      <td>3.356319</td>\n",
       "      <td>2.827610</td>\n",
       "      <td>5.451596</td>\n",
       "      <td>3.925502</td>\n",
       "      <td>3.399600</td>\n",
       "      <td>6.925839</td>\n",
       "    </tr>\n",
       "    <tr>\n",
       "      <th>2</th>\n",
       "      <td>7.426114</td>\n",
       "      <td>8.940615</td>\n",
       "      <td>0.000000</td>\n",
       "      <td>0.0</td>\n",
       "      <td>2.581625</td>\n",
       "      <td>3.781231</td>\n",
       "      <td>2.529366</td>\n",
       "      <td>5.057423</td>\n",
       "      <td>5.349465</td>\n",
       "      <td>2.414715</td>\n",
       "      <td>2.168184</td>\n",
       "      <td>1.818730</td>\n",
       "      <td>3.085110</td>\n",
       "      <td>2.720484</td>\n",
       "      <td>3.302422</td>\n",
       "      <td>3.986483</td>\n",
       "      <td>3.220588</td>\n",
       "      <td>6.379500</td>\n",
       "    </tr>\n",
       "    <tr>\n",
       "      <th>3</th>\n",
       "      <td>7.141880</td>\n",
       "      <td>8.807515</td>\n",
       "      <td>0.441401</td>\n",
       "      <td>0.0</td>\n",
       "      <td>2.560526</td>\n",
       "      <td>4.065357</td>\n",
       "      <td>2.622586</td>\n",
       "      <td>4.715786</td>\n",
       "      <td>4.910319</td>\n",
       "      <td>2.522343</td>\n",
       "      <td>1.513539</td>\n",
       "      <td>1.591031</td>\n",
       "      <td>3.681013</td>\n",
       "      <td>3.058494</td>\n",
       "      <td>5.547122</td>\n",
       "      <td>3.728646</td>\n",
       "      <td>3.278150</td>\n",
       "      <td>7.050406</td>\n",
       "    </tr>\n",
       "    <tr>\n",
       "      <th>4</th>\n",
       "      <td>7.052986</td>\n",
       "      <td>9.161103</td>\n",
       "      <td>0.000000</td>\n",
       "      <td>0.0</td>\n",
       "      <td>2.592095</td>\n",
       "      <td>3.800127</td>\n",
       "      <td>2.332304</td>\n",
       "      <td>6.322521</td>\n",
       "      <td>3.995392</td>\n",
       "      <td>2.237114</td>\n",
       "      <td>3.345624</td>\n",
       "      <td>2.310409</td>\n",
       "      <td>3.132799</td>\n",
       "      <td>2.676861</td>\n",
       "      <td>3.539026</td>\n",
       "      <td>3.797881</td>\n",
       "      <td>3.131560</td>\n",
       "      <td>6.363475</td>\n",
       "    </tr>\n",
       "  </tbody>\n",
       "</table>\n",
       "</div>"
      ],
      "text/plain": [
       "       AC 1      AC 2      AC 3  AC 4      AC 5      AC 6      AC 7      AC 8  \\\n",
       "0  7.518632  8.788315  0.000000   0.0  2.617045  4.079041  2.782276  4.624447   \n",
       "1  7.341986  8.869652  0.207528   0.0  2.593492  4.070208  2.765041  4.675383   \n",
       "2  7.426114  8.940615  0.000000   0.0  2.581625  3.781231  2.529366  5.057423   \n",
       "3  7.141880  8.807515  0.441401   0.0  2.560526  4.065357  2.622586  4.715786   \n",
       "4  7.052986  9.161103  0.000000   0.0  2.592095  3.800127  2.332304  6.322521   \n",
       "\n",
       "       AC 9     AC 10     AC 11     AC 12     AC 13     AC 14     AC 15  \\\n",
       "0  5.222060  2.151238  1.585072  0.560373  3.142941  2.749470  5.417774   \n",
       "1  5.170101  2.285380  1.553008  1.004822  3.356319  2.827610  5.451596   \n",
       "2  5.349465  2.414715  2.168184  1.818730  3.085110  2.720484  3.302422   \n",
       "3  4.910319  2.522343  1.513539  1.591031  3.681013  3.058494  5.547122   \n",
       "4  3.995392  2.237114  3.345624  2.310409  3.132799  2.676861  3.539026   \n",
       "\n",
       "      AC 16     AC 17     AC 18  \n",
       "0  4.113460  3.305072  6.735981  \n",
       "1  3.925502  3.399600  6.925839  \n",
       "2  3.986483  3.220588  6.379500  \n",
       "3  3.728646  3.278150  7.050406  \n",
       "4  3.797881  3.131560  6.363475  "
      ]
     },
     "execution_count": 57,
     "metadata": {},
     "output_type": "execute_result"
    }
   ],
   "source": [
    "final.head()"
   ]
  },
  {
   "cell_type": "code",
   "execution_count": 58,
   "id": "7c1bc800",
   "metadata": {
    "execution": {
     "iopub.execute_input": "2021-12-16T18:24:02.363234Z",
     "iopub.status.busy": "2021-12-16T18:24:02.362503Z",
     "iopub.status.idle": "2021-12-16T18:24:02.365511Z",
     "shell.execute_reply": "2021-12-16T18:24:02.366010Z",
     "shell.execute_reply.started": "2021-12-16T17:25:19.375728Z"
    },
    "papermill": {
     "duration": 0.106496,
     "end_time": "2021-12-16T18:24:02.366178",
     "exception": false,
     "start_time": "2021-12-16T18:24:02.259682",
     "status": "completed"
    },
    "tags": []
   },
   "outputs": [
    {
     "data": {
      "text/html": [
       "<div>\n",
       "<style scoped>\n",
       "    .dataframe tbody tr th:only-of-type {\n",
       "        vertical-align: middle;\n",
       "    }\n",
       "\n",
       "    .dataframe tbody tr th {\n",
       "        vertical-align: top;\n",
       "    }\n",
       "\n",
       "    .dataframe thead th {\n",
       "        text-align: right;\n",
       "    }\n",
       "</style>\n",
       "<table border=\"1\" class=\"dataframe\">\n",
       "  <thead>\n",
       "    <tr style=\"text-align: right;\">\n",
       "      <th></th>\n",
       "      <th>AC 1</th>\n",
       "      <th>AC 2</th>\n",
       "      <th>AC 3</th>\n",
       "      <th>AC 4</th>\n",
       "      <th>AC 5</th>\n",
       "      <th>AC 6</th>\n",
       "      <th>AC 7</th>\n",
       "      <th>AC 8</th>\n",
       "      <th>AC 9</th>\n",
       "      <th>AC 10</th>\n",
       "      <th>AC 11</th>\n",
       "      <th>AC 12</th>\n",
       "      <th>AC 13</th>\n",
       "      <th>AC 14</th>\n",
       "      <th>AC 15</th>\n",
       "      <th>AC 16</th>\n",
       "      <th>AC 17</th>\n",
       "      <th>AC 18</th>\n",
       "    </tr>\n",
       "  </thead>\n",
       "  <tbody>\n",
       "    <tr>\n",
       "      <th>87835</th>\n",
       "      <td>2.511127</td>\n",
       "      <td>6.717162</td>\n",
       "      <td>1.875420</td>\n",
       "      <td>1.806481</td>\n",
       "      <td>1.691359</td>\n",
       "      <td>1.537162</td>\n",
       "      <td>3.448224</td>\n",
       "      <td>0.415653</td>\n",
       "      <td>4.227140</td>\n",
       "      <td>1.663694</td>\n",
       "      <td>4.742731</td>\n",
       "      <td>4.865262</td>\n",
       "      <td>3.757177</td>\n",
       "      <td>2.561536</td>\n",
       "      <td>3.555997</td>\n",
       "      <td>1.302808</td>\n",
       "      <td>3.397213</td>\n",
       "      <td>5.285881</td>\n",
       "    </tr>\n",
       "    <tr>\n",
       "      <th>87836</th>\n",
       "      <td>2.220658</td>\n",
       "      <td>6.678334</td>\n",
       "      <td>1.934516</td>\n",
       "      <td>1.420872</td>\n",
       "      <td>1.661772</td>\n",
       "      <td>1.270944</td>\n",
       "      <td>3.380934</td>\n",
       "      <td>0.869382</td>\n",
       "      <td>4.073246</td>\n",
       "      <td>1.788681</td>\n",
       "      <td>4.804962</td>\n",
       "      <td>4.486897</td>\n",
       "      <td>3.729119</td>\n",
       "      <td>2.486492</td>\n",
       "      <td>3.620131</td>\n",
       "      <td>1.428109</td>\n",
       "      <td>3.352481</td>\n",
       "      <td>5.742623</td>\n",
       "    </tr>\n",
       "    <tr>\n",
       "      <th>87837</th>\n",
       "      <td>1.881810</td>\n",
       "      <td>6.621599</td>\n",
       "      <td>2.019405</td>\n",
       "      <td>0.927907</td>\n",
       "      <td>1.601010</td>\n",
       "      <td>0.919178</td>\n",
       "      <td>3.306470</td>\n",
       "      <td>1.480881</td>\n",
       "      <td>3.857143</td>\n",
       "      <td>1.922387</td>\n",
       "      <td>4.918952</td>\n",
       "      <td>3.967353</td>\n",
       "      <td>3.723702</td>\n",
       "      <td>2.375458</td>\n",
       "      <td>3.736725</td>\n",
       "      <td>1.587883</td>\n",
       "      <td>3.271311</td>\n",
       "      <td>6.266642</td>\n",
       "    </tr>\n",
       "    <tr>\n",
       "      <th>87838</th>\n",
       "      <td>1.489072</td>\n",
       "      <td>6.531572</td>\n",
       "      <td>2.137494</td>\n",
       "      <td>0.327968</td>\n",
       "      <td>1.504748</td>\n",
       "      <td>0.459029</td>\n",
       "      <td>3.205437</td>\n",
       "      <td>2.284129</td>\n",
       "      <td>3.597314</td>\n",
       "      <td>2.078861</td>\n",
       "      <td>5.102618</td>\n",
       "      <td>3.301589</td>\n",
       "      <td>3.753524</td>\n",
       "      <td>2.230496</td>\n",
       "      <td>3.912781</td>\n",
       "      <td>1.777735</td>\n",
       "      <td>3.149855</td>\n",
       "      <td>6.866085</td>\n",
       "    </tr>\n",
       "    <tr>\n",
       "      <th>87839</th>\n",
       "      <td>1.046616</td>\n",
       "      <td>6.427182</td>\n",
       "      <td>2.303093</td>\n",
       "      <td>0.000000</td>\n",
       "      <td>1.369138</td>\n",
       "      <td>0.000000</td>\n",
       "      <td>3.087444</td>\n",
       "      <td>3.297879</td>\n",
       "      <td>3.273236</td>\n",
       "      <td>2.247546</td>\n",
       "      <td>5.360683</td>\n",
       "      <td>2.454531</td>\n",
       "      <td>3.825678</td>\n",
       "      <td>2.039394</td>\n",
       "      <td>4.159966</td>\n",
       "      <td>2.008315</td>\n",
       "      <td>2.980594</td>\n",
       "      <td>7.547807</td>\n",
       "    </tr>\n",
       "  </tbody>\n",
       "</table>\n",
       "</div>"
      ],
      "text/plain": [
       "           AC 1      AC 2      AC 3      AC 4      AC 5      AC 6      AC 7  \\\n",
       "87835  2.511127  6.717162  1.875420  1.806481  1.691359  1.537162  3.448224   \n",
       "87836  2.220658  6.678334  1.934516  1.420872  1.661772  1.270944  3.380934   \n",
       "87837  1.881810  6.621599  2.019405  0.927907  1.601010  0.919178  3.306470   \n",
       "87838  1.489072  6.531572  2.137494  0.327968  1.504748  0.459029  3.205437   \n",
       "87839  1.046616  6.427182  2.303093  0.000000  1.369138  0.000000  3.087444   \n",
       "\n",
       "           AC 8      AC 9     AC 10     AC 11     AC 12     AC 13     AC 14  \\\n",
       "87835  0.415653  4.227140  1.663694  4.742731  4.865262  3.757177  2.561536   \n",
       "87836  0.869382  4.073246  1.788681  4.804962  4.486897  3.729119  2.486492   \n",
       "87837  1.480881  3.857143  1.922387  4.918952  3.967353  3.723702  2.375458   \n",
       "87838  2.284129  3.597314  2.078861  5.102618  3.301589  3.753524  2.230496   \n",
       "87839  3.297879  3.273236  2.247546  5.360683  2.454531  3.825678  2.039394   \n",
       "\n",
       "          AC 15     AC 16     AC 17     AC 18  \n",
       "87835  3.555997  1.302808  3.397213  5.285881  \n",
       "87836  3.620131  1.428109  3.352481  5.742623  \n",
       "87837  3.736725  1.587883  3.271311  6.266642  \n",
       "87838  3.912781  1.777735  3.149855  6.866085  \n",
       "87839  4.159966  2.008315  2.980594  7.547807  "
      ]
     },
     "execution_count": 58,
     "metadata": {},
     "output_type": "execute_result"
    }
   ],
   "source": [
    "final.tail()"
   ]
  },
  {
   "cell_type": "code",
   "execution_count": 59,
   "id": "b4521455",
   "metadata": {
    "execution": {
     "iopub.execute_input": "2021-12-16T18:24:02.538235Z",
     "iopub.status.busy": "2021-12-16T18:24:02.537579Z",
     "iopub.status.idle": "2021-12-16T18:24:02.543366Z",
     "shell.execute_reply": "2021-12-16T18:24:02.543816Z",
     "shell.execute_reply.started": "2021-12-16T17:25:19.798284Z"
    },
    "papermill": {
     "duration": 0.096456,
     "end_time": "2021-12-16T18:24:02.544031",
     "exception": false,
     "start_time": "2021-12-16T18:24:02.447575",
     "status": "completed"
    },
    "tags": []
   },
   "outputs": [],
   "source": [
    "final.insert(0, \"Timestamp\", timestamp)"
   ]
  },
  {
   "cell_type": "code",
   "execution_count": 60,
   "id": "2a4a2efc",
   "metadata": {
    "execution": {
     "iopub.execute_input": "2021-12-16T18:24:02.728587Z",
     "iopub.status.busy": "2021-12-16T18:24:02.727583Z",
     "iopub.status.idle": "2021-12-16T18:24:02.757901Z",
     "shell.execute_reply": "2021-12-16T18:24:02.758818Z",
     "shell.execute_reply.started": "2021-12-16T17:25:20.181817Z"
    },
    "papermill": {
     "duration": 0.132849,
     "end_time": "2021-12-16T18:24:02.759105",
     "exception": false,
     "start_time": "2021-12-16T18:24:02.626256",
     "status": "completed"
    },
    "tags": []
   },
   "outputs": [
    {
     "data": {
      "text/html": [
       "<div>\n",
       "<style scoped>\n",
       "    .dataframe tbody tr th:only-of-type {\n",
       "        vertical-align: middle;\n",
       "    }\n",
       "\n",
       "    .dataframe tbody tr th {\n",
       "        vertical-align: top;\n",
       "    }\n",
       "\n",
       "    .dataframe thead th {\n",
       "        text-align: right;\n",
       "    }\n",
       "</style>\n",
       "<table border=\"1\" class=\"dataframe\">\n",
       "  <thead>\n",
       "    <tr style=\"text-align: right;\">\n",
       "      <th></th>\n",
       "      <th>Timestamp</th>\n",
       "      <th>AC 1</th>\n",
       "      <th>AC 2</th>\n",
       "      <th>AC 3</th>\n",
       "      <th>AC 4</th>\n",
       "      <th>AC 5</th>\n",
       "      <th>AC 6</th>\n",
       "      <th>AC 7</th>\n",
       "      <th>AC 8</th>\n",
       "      <th>AC 9</th>\n",
       "      <th>AC 10</th>\n",
       "      <th>AC 11</th>\n",
       "      <th>AC 12</th>\n",
       "      <th>AC 13</th>\n",
       "      <th>AC 14</th>\n",
       "      <th>AC 15</th>\n",
       "      <th>AC 16</th>\n",
       "      <th>AC 17</th>\n",
       "      <th>AC 18</th>\n",
       "    </tr>\n",
       "  </thead>\n",
       "  <tbody>\n",
       "    <tr>\n",
       "      <th>0</th>\n",
       "      <td>2019-08-01 00:00:00</td>\n",
       "      <td>7.518632</td>\n",
       "      <td>8.788315</td>\n",
       "      <td>0.000000</td>\n",
       "      <td>0.0</td>\n",
       "      <td>2.617045</td>\n",
       "      <td>4.079041</td>\n",
       "      <td>2.782276</td>\n",
       "      <td>4.624447</td>\n",
       "      <td>5.222060</td>\n",
       "      <td>2.151238</td>\n",
       "      <td>1.585072</td>\n",
       "      <td>0.560373</td>\n",
       "      <td>3.142941</td>\n",
       "      <td>2.74947</td>\n",
       "      <td>5.417774</td>\n",
       "      <td>4.113460</td>\n",
       "      <td>3.305072</td>\n",
       "      <td>6.735981</td>\n",
       "    </tr>\n",
       "    <tr>\n",
       "      <th>1</th>\n",
       "      <td>2019-08-01 00:01:00</td>\n",
       "      <td>7.341986</td>\n",
       "      <td>8.869652</td>\n",
       "      <td>0.207528</td>\n",
       "      <td>0.0</td>\n",
       "      <td>2.593492</td>\n",
       "      <td>4.070208</td>\n",
       "      <td>2.765041</td>\n",
       "      <td>4.675383</td>\n",
       "      <td>5.170101</td>\n",
       "      <td>2.285380</td>\n",
       "      <td>1.553008</td>\n",
       "      <td>1.004822</td>\n",
       "      <td>3.356319</td>\n",
       "      <td>2.82761</td>\n",
       "      <td>5.451596</td>\n",
       "      <td>3.925502</td>\n",
       "      <td>3.399600</td>\n",
       "      <td>6.925839</td>\n",
       "    </tr>\n",
       "  </tbody>\n",
       "</table>\n",
       "</div>"
      ],
      "text/plain": [
       "             Timestamp      AC 1      AC 2      AC 3  AC 4      AC 5  \\\n",
       "0  2019-08-01 00:00:00  7.518632  8.788315  0.000000   0.0  2.617045   \n",
       "1  2019-08-01 00:01:00  7.341986  8.869652  0.207528   0.0  2.593492   \n",
       "\n",
       "       AC 6      AC 7      AC 8      AC 9     AC 10     AC 11     AC 12  \\\n",
       "0  4.079041  2.782276  4.624447  5.222060  2.151238  1.585072  0.560373   \n",
       "1  4.070208  2.765041  4.675383  5.170101  2.285380  1.553008  1.004822   \n",
       "\n",
       "      AC 13    AC 14     AC 15     AC 16     AC 17     AC 18  \n",
       "0  3.142941  2.74947  5.417774  4.113460  3.305072  6.735981  \n",
       "1  3.356319  2.82761  5.451596  3.925502  3.399600  6.925839  "
      ]
     },
     "execution_count": 60,
     "metadata": {},
     "output_type": "execute_result"
    }
   ],
   "source": [
    "final.head(2)"
   ]
  },
  {
   "cell_type": "code",
   "execution_count": 61,
   "id": "329db4b6",
   "metadata": {
    "execution": {
     "iopub.execute_input": "2021-12-16T18:24:02.930588Z",
     "iopub.status.busy": "2021-12-16T18:24:02.929798Z",
     "iopub.status.idle": "2021-12-16T18:24:02.940136Z",
     "shell.execute_reply": "2021-12-16T18:24:02.940802Z",
     "shell.execute_reply.started": "2021-12-16T17:25:21.366359Z"
    },
    "papermill": {
     "duration": 0.097183,
     "end_time": "2021-12-16T18:24:02.941014",
     "exception": false,
     "start_time": "2021-12-16T18:24:02.843831",
     "status": "completed"
    },
    "tags": []
   },
   "outputs": [],
   "source": [
    "final = final.set_index(\"Timestamp\")"
   ]
  },
  {
   "cell_type": "code",
   "execution_count": 62,
   "id": "8e3c9b65",
   "metadata": {
    "execution": {
     "iopub.execute_input": "2021-12-16T18:24:03.114687Z",
     "iopub.status.busy": "2021-12-16T18:24:03.113988Z",
     "iopub.status.idle": "2021-12-16T18:24:03.139455Z",
     "shell.execute_reply": "2021-12-16T18:24:03.140106Z",
     "shell.execute_reply.started": "2021-12-16T17:25:21.633320Z"
    },
    "papermill": {
     "duration": 0.113012,
     "end_time": "2021-12-16T18:24:03.140295",
     "exception": false,
     "start_time": "2021-12-16T18:24:03.027283",
     "status": "completed"
    },
    "tags": []
   },
   "outputs": [
    {
     "data": {
      "text/html": [
       "<div>\n",
       "<style scoped>\n",
       "    .dataframe tbody tr th:only-of-type {\n",
       "        vertical-align: middle;\n",
       "    }\n",
       "\n",
       "    .dataframe tbody tr th {\n",
       "        vertical-align: top;\n",
       "    }\n",
       "\n",
       "    .dataframe thead th {\n",
       "        text-align: right;\n",
       "    }\n",
       "</style>\n",
       "<table border=\"1\" class=\"dataframe\">\n",
       "  <thead>\n",
       "    <tr style=\"text-align: right;\">\n",
       "      <th></th>\n",
       "      <th>AC 1</th>\n",
       "      <th>AC 2</th>\n",
       "      <th>AC 3</th>\n",
       "      <th>AC 4</th>\n",
       "      <th>AC 5</th>\n",
       "      <th>AC 6</th>\n",
       "      <th>AC 7</th>\n",
       "      <th>AC 8</th>\n",
       "      <th>AC 9</th>\n",
       "      <th>AC 10</th>\n",
       "      <th>AC 11</th>\n",
       "      <th>AC 12</th>\n",
       "      <th>AC 13</th>\n",
       "      <th>AC 14</th>\n",
       "      <th>AC 15</th>\n",
       "      <th>AC 16</th>\n",
       "      <th>AC 17</th>\n",
       "      <th>AC 18</th>\n",
       "    </tr>\n",
       "    <tr>\n",
       "      <th>Timestamp</th>\n",
       "      <th></th>\n",
       "      <th></th>\n",
       "      <th></th>\n",
       "      <th></th>\n",
       "      <th></th>\n",
       "      <th></th>\n",
       "      <th></th>\n",
       "      <th></th>\n",
       "      <th></th>\n",
       "      <th></th>\n",
       "      <th></th>\n",
       "      <th></th>\n",
       "      <th></th>\n",
       "      <th></th>\n",
       "      <th></th>\n",
       "      <th></th>\n",
       "      <th></th>\n",
       "      <th></th>\n",
       "    </tr>\n",
       "  </thead>\n",
       "  <tbody>\n",
       "    <tr>\n",
       "      <th>2019-08-01 00:00:00</th>\n",
       "      <td>7.518632</td>\n",
       "      <td>8.788315</td>\n",
       "      <td>0.000000</td>\n",
       "      <td>0.0</td>\n",
       "      <td>2.617045</td>\n",
       "      <td>4.079041</td>\n",
       "      <td>2.782276</td>\n",
       "      <td>4.624447</td>\n",
       "      <td>5.222060</td>\n",
       "      <td>2.151238</td>\n",
       "      <td>1.585072</td>\n",
       "      <td>0.560373</td>\n",
       "      <td>3.142941</td>\n",
       "      <td>2.74947</td>\n",
       "      <td>5.417774</td>\n",
       "      <td>4.113460</td>\n",
       "      <td>3.305072</td>\n",
       "      <td>6.735981</td>\n",
       "    </tr>\n",
       "    <tr>\n",
       "      <th>2019-08-01 00:01:00</th>\n",
       "      <td>7.341986</td>\n",
       "      <td>8.869652</td>\n",
       "      <td>0.207528</td>\n",
       "      <td>0.0</td>\n",
       "      <td>2.593492</td>\n",
       "      <td>4.070208</td>\n",
       "      <td>2.765041</td>\n",
       "      <td>4.675383</td>\n",
       "      <td>5.170101</td>\n",
       "      <td>2.285380</td>\n",
       "      <td>1.553008</td>\n",
       "      <td>1.004822</td>\n",
       "      <td>3.356319</td>\n",
       "      <td>2.82761</td>\n",
       "      <td>5.451596</td>\n",
       "      <td>3.925502</td>\n",
       "      <td>3.399600</td>\n",
       "      <td>6.925839</td>\n",
       "    </tr>\n",
       "  </tbody>\n",
       "</table>\n",
       "</div>"
      ],
      "text/plain": [
       "                         AC 1      AC 2      AC 3  AC 4      AC 5      AC 6  \\\n",
       "Timestamp                                                                     \n",
       "2019-08-01 00:00:00  7.518632  8.788315  0.000000   0.0  2.617045  4.079041   \n",
       "2019-08-01 00:01:00  7.341986  8.869652  0.207528   0.0  2.593492  4.070208   \n",
       "\n",
       "                         AC 7      AC 8      AC 9     AC 10     AC 11  \\\n",
       "Timestamp                                                               \n",
       "2019-08-01 00:00:00  2.782276  4.624447  5.222060  2.151238  1.585072   \n",
       "2019-08-01 00:01:00  2.765041  4.675383  5.170101  2.285380  1.553008   \n",
       "\n",
       "                        AC 12     AC 13    AC 14     AC 15     AC 16  \\\n",
       "Timestamp                                                              \n",
       "2019-08-01 00:00:00  0.560373  3.142941  2.74947  5.417774  4.113460   \n",
       "2019-08-01 00:01:00  1.004822  3.356319  2.82761  5.451596  3.925502   \n",
       "\n",
       "                        AC 17     AC 18  \n",
       "Timestamp                                \n",
       "2019-08-01 00:00:00  3.305072  6.735981  \n",
       "2019-08-01 00:01:00  3.399600  6.925839  "
      ]
     },
     "execution_count": 62,
     "metadata": {},
     "output_type": "execute_result"
    }
   ],
   "source": [
    "final.head(2)"
   ]
  },
  {
   "cell_type": "code",
   "execution_count": 63,
   "id": "4383bd0f",
   "metadata": {
    "execution": {
     "iopub.execute_input": "2021-12-16T18:24:03.336566Z",
     "iopub.status.busy": "2021-12-16T18:24:03.316980Z",
     "iopub.status.idle": "2021-12-16T18:24:03.339856Z",
     "shell.execute_reply": "2021-12-16T18:24:03.340494Z",
     "shell.execute_reply.started": "2021-12-16T17:25:22.281244Z"
    },
    "papermill": {
     "duration": 0.114871,
     "end_time": "2021-12-16T18:24:03.340661",
     "exception": false,
     "start_time": "2021-12-16T18:24:03.225790",
     "status": "completed"
    },
    "tags": []
   },
   "outputs": [
    {
     "data": {
      "text/html": [
       "<div>\n",
       "<style scoped>\n",
       "    .dataframe tbody tr th:only-of-type {\n",
       "        vertical-align: middle;\n",
       "    }\n",
       "\n",
       "    .dataframe tbody tr th {\n",
       "        vertical-align: top;\n",
       "    }\n",
       "\n",
       "    .dataframe thead th {\n",
       "        text-align: right;\n",
       "    }\n",
       "</style>\n",
       "<table border=\"1\" class=\"dataframe\">\n",
       "  <thead>\n",
       "    <tr style=\"text-align: right;\">\n",
       "      <th></th>\n",
       "      <th>AC 1</th>\n",
       "      <th>AC 2</th>\n",
       "      <th>AC 3</th>\n",
       "      <th>AC 4</th>\n",
       "      <th>AC 5</th>\n",
       "      <th>AC 6</th>\n",
       "      <th>AC 7</th>\n",
       "      <th>AC 8</th>\n",
       "      <th>AC 9</th>\n",
       "      <th>AC 10</th>\n",
       "      <th>AC 11</th>\n",
       "      <th>AC 12</th>\n",
       "      <th>AC 13</th>\n",
       "      <th>AC 14</th>\n",
       "      <th>AC 15</th>\n",
       "      <th>AC 16</th>\n",
       "      <th>AC 17</th>\n",
       "      <th>AC 18</th>\n",
       "    </tr>\n",
       "    <tr>\n",
       "      <th>Timestamp</th>\n",
       "      <th></th>\n",
       "      <th></th>\n",
       "      <th></th>\n",
       "      <th></th>\n",
       "      <th></th>\n",
       "      <th></th>\n",
       "      <th></th>\n",
       "      <th></th>\n",
       "      <th></th>\n",
       "      <th></th>\n",
       "      <th></th>\n",
       "      <th></th>\n",
       "      <th></th>\n",
       "      <th></th>\n",
       "      <th></th>\n",
       "      <th></th>\n",
       "      <th></th>\n",
       "      <th></th>\n",
       "    </tr>\n",
       "  </thead>\n",
       "  <tbody>\n",
       "    <tr>\n",
       "      <th>2019-09-30 23:58:00</th>\n",
       "      <td>1.489072</td>\n",
       "      <td>6.531572</td>\n",
       "      <td>2.137494</td>\n",
       "      <td>0.327968</td>\n",
       "      <td>1.504748</td>\n",
       "      <td>0.459029</td>\n",
       "      <td>3.205437</td>\n",
       "      <td>2.284129</td>\n",
       "      <td>3.597314</td>\n",
       "      <td>2.078861</td>\n",
       "      <td>5.102618</td>\n",
       "      <td>3.301589</td>\n",
       "      <td>3.753524</td>\n",
       "      <td>2.230496</td>\n",
       "      <td>3.912781</td>\n",
       "      <td>1.777735</td>\n",
       "      <td>3.149855</td>\n",
       "      <td>6.866085</td>\n",
       "    </tr>\n",
       "    <tr>\n",
       "      <th>2019-09-30 23:59:00</th>\n",
       "      <td>1.046616</td>\n",
       "      <td>6.427182</td>\n",
       "      <td>2.303093</td>\n",
       "      <td>0.000000</td>\n",
       "      <td>1.369138</td>\n",
       "      <td>0.000000</td>\n",
       "      <td>3.087444</td>\n",
       "      <td>3.297879</td>\n",
       "      <td>3.273236</td>\n",
       "      <td>2.247546</td>\n",
       "      <td>5.360683</td>\n",
       "      <td>2.454531</td>\n",
       "      <td>3.825678</td>\n",
       "      <td>2.039394</td>\n",
       "      <td>4.159966</td>\n",
       "      <td>2.008315</td>\n",
       "      <td>2.980594</td>\n",
       "      <td>7.547807</td>\n",
       "    </tr>\n",
       "  </tbody>\n",
       "</table>\n",
       "</div>"
      ],
      "text/plain": [
       "                         AC 1      AC 2      AC 3      AC 4      AC 5  \\\n",
       "Timestamp                                                               \n",
       "2019-09-30 23:58:00  1.489072  6.531572  2.137494  0.327968  1.504748   \n",
       "2019-09-30 23:59:00  1.046616  6.427182  2.303093  0.000000  1.369138   \n",
       "\n",
       "                         AC 6      AC 7      AC 8      AC 9     AC 10  \\\n",
       "Timestamp                                                               \n",
       "2019-09-30 23:58:00  0.459029  3.205437  2.284129  3.597314  2.078861   \n",
       "2019-09-30 23:59:00  0.000000  3.087444  3.297879  3.273236  2.247546   \n",
       "\n",
       "                        AC 11     AC 12     AC 13     AC 14     AC 15  \\\n",
       "Timestamp                                                               \n",
       "2019-09-30 23:58:00  5.102618  3.301589  3.753524  2.230496  3.912781   \n",
       "2019-09-30 23:59:00  5.360683  2.454531  3.825678  2.039394  4.159966   \n",
       "\n",
       "                        AC 16     AC 17     AC 18  \n",
       "Timestamp                                          \n",
       "2019-09-30 23:58:00  1.777735  3.149855  6.866085  \n",
       "2019-09-30 23:59:00  2.008315  2.980594  7.547807  "
      ]
     },
     "execution_count": 63,
     "metadata": {},
     "output_type": "execute_result"
    }
   ],
   "source": [
    "final.tail(2)"
   ]
  },
  {
   "cell_type": "markdown",
   "id": "73bc364d",
   "metadata": {
    "papermill": {
     "duration": 0.087932,
     "end_time": "2021-12-16T18:24:03.514608",
     "exception": false,
     "start_time": "2021-12-16T18:24:03.426676",
     "status": "completed"
    },
    "tags": []
   },
   "source": [
    "# PACF and ACF"
   ]
  },
  {
   "cell_type": "code",
   "execution_count": 64,
   "id": "8b409a46",
   "metadata": {
    "execution": {
     "iopub.execute_input": "2021-12-16T18:24:03.697459Z",
     "iopub.status.busy": "2021-12-16T18:24:03.696718Z",
     "iopub.status.idle": "2021-12-16T18:25:00.755024Z",
     "shell.execute_reply": "2021-12-16T18:25:00.754439Z",
     "shell.execute_reply.started": "2021-12-16T16:39:49.538144Z"
    },
    "papermill": {
     "duration": 57.1537,
     "end_time": "2021-12-16T18:25:00.755185",
     "exception": false,
     "start_time": "2021-12-16T18:24:03.601485",
     "status": "completed"
    },
    "tags": []
   },
   "outputs": [
    {
     "data": {
      "image/png": "[encoded data removed]",
      "text/plain": [
       "<Figure size 1080x360 with 2 Axes>"
      ]
     },
     "metadata": {
      "needs_background": "light"
     },
     "output_type": "display_data"
    },
    {
     "data": {
      "image/png": "[encoded data removed]",
      "text/plain": [
       "<Figure size 1080x360 with 2 Axes>"
      ]
     },
     "metadata": {
      "needs_background": "light"
     },
     "output_type": "display_data"
    },
    {
     "data": {
      "image/png": "[encoded data removed]",
      "text/plain": [
       "<Figure size 1080x360 with 2 Axes>"
      ]
     },
     "metadata": {
      "needs_background": "light"
     },
     "output_type": "display_data"
    },
    {
     "data": {
      "image/png": "[encoded data removed]",
      "text/plain": [
       "<Figure size 1080x360 with 2 Axes>"
      ]
     },
     "metadata": {
      "needs_background": "light"
     },
     "output_type": "display_data"
    },
    {
     "data": {
      "image/png": "[encoded data removed]",
      "text/plain": [
       "<Figure size 1080x360 with 2 Axes>"
      ]
     },
     "metadata": {
      "needs_background": "light"
     },
     "output_type": "display_data"
    },
    {
     "data": {
      "image/png": "[encoded data removed]",
      "text/plain": [
       "<Figure size 1080x360 with 2 Axes>"
      ]
     },
     "metadata": {
      "needs_background": "light"
     },
     "output_type": "display_data"
    },
    {
     "data": {
      "image/png": "[encoded data removed]",
      "text/plain": [
       "<Figure size 1080x360 with 2 Axes>"
      ]
     },
     "metadata": {
      "needs_background": "light"
     },
     "output_type": "display_data"
    },
    {
     "data": {
      "image/png": "[encoded data removed]",
      "text/plain": [
       "<Figure size 1080x360 with 2 Axes>"
      ]
     },
     "metadata": {
      "needs_background": "light"
     },
     "output_type": "display_data"
    },
    {
     "data": {
      "image/png": "[encoded data removed]",
      "text/plain": [
       "<Figure size 1080x360 with 2 Axes>"
      ]
     },
     "metadata": {
      "needs_background": "light"
     },
     "output_type": "display_data"
    },
    {
     "data": {
      "image/png": "[encoded data removed]",
      "text/plain": [
       "<Figure size 1080x360 with 2 Axes>"
      ]
     },
     "metadata": {
      "needs_background": "light"
     },
     "output_type": "display_data"
    },
    {
     "data": {
      "image/png": "[encoded data removed]",
      "text/plain": [
       "<Figure size 1080x360 with 2 Axes>"
      ]
     },
     "metadata": {
      "needs_background": "light"
     },
     "output_type": "display_data"
    },
    {
     "data": {
      "image/png": "[encoded data removed]",
      "text/plain": [
       "<Figure size 1080x360 with 2 Axes>"
      ]
     },
     "metadata": {
      "needs_background": "light"
     },
     "output_type": "display_data"
    },
    {
     "data": {
      "image/png": "[encoded data removed]",
      "text/plain": [
       "<Figure size 1080x360 with 2 Axes>"
      ]
     },
     "metadata": {
      "needs_background": "light"
     },
     "output_type": "display_data"
    },
    {
     "data": {
      "image/png": "[encoded data removed]",
      "text/plain": [
       "<Figure size 1080x360 with 2 Axes>"
      ]
     },
     "metadata": {
      "needs_background": "light"
     },
     "output_type": "display_data"
    },
    {
     "data": {
      "image/png": "[encoded data removed]",
      "text/plain": [
       "<Figure size 1080x360 with 2 Axes>"
      ]
     },
     "metadata": {
      "needs_background": "light"
     },
     "output_type": "display_data"
    },
    {
     "data": {
      "image/png": "[encoded data removed]",
      "text/plain": [
       "<Figure size 1080x360 with 2 Axes>"
      ]
     },
     "metadata": {
      "needs_background": "light"
     },
     "output_type": "display_data"
    },
    {
     "data": {
      "image/png": "[encoded data removed]",
      "text/plain": [
       "<Figure size 1080x360 with 2 Axes>"
      ]
     },
     "metadata": {
      "needs_background": "light"
     },
     "output_type": "display_data"
    },
    {
     "data": {
      "image/png": "[encoded data removed]",
      "text/plain": [
       "<Figure size 1080x360 with 2 Axes>"
      ]
     },
     "metadata": {
      "needs_background": "light"
     },
     "output_type": "display_data"
    }
   ],
   "source": [
    "for i in final.columns:\n",
    "\n",
    "    fig, axes = plt.subplots(ncols=2, figsize=(15, 5))\n",
    "\n",
    "    plot_acf(final[i], ax = axes[0], title = f\"{i}_ACF\");\n",
    "#     ax.set_title(f'{i}' + \" ACF\")\n",
    "    plot_pacf(final[i], ax = axes[1], title = f\"{i}_PACF\");\n",
    "#     ax.set_title(f'{i}' + \" PACF\")"
   ]
  },
  {
   "cell_type": "markdown",
   "id": "b12d8069",
   "metadata": {
    "papermill": {
     "duration": 0.103502,
     "end_time": "2021-12-16T18:25:00.962048",
     "exception": false,
     "start_time": "2021-12-16T18:25:00.858546",
     "status": "completed"
    },
    "tags": []
   },
   "source": [
    "# Train Test Split\n",
    "**Will try to forecast next 120 observations ,i.e., next two hour power consumption**"
   ]
  },
  {
   "cell_type": "code",
   "execution_count": 65,
   "id": "7e69c8af",
   "metadata": {
    "execution": {
     "iopub.execute_input": "2021-12-16T18:25:01.173271Z",
     "iopub.status.busy": "2021-12-16T18:25:01.172574Z",
     "iopub.status.idle": "2021-12-16T18:25:01.178069Z",
     "shell.execute_reply": "2021-12-16T18:25:01.177375Z",
     "shell.execute_reply.started": "2021-12-16T17:25:29.411053Z"
    },
    "papermill": {
     "duration": 0.114384,
     "end_time": "2021-12-16T18:25:01.178210",
     "exception": false,
     "start_time": "2021-12-16T18:25:01.063826",
     "status": "completed"
    },
    "tags": []
   },
   "outputs": [
    {
     "data": {
      "text/plain": [
       "(87720, 18)"
      ]
     },
     "execution_count": 65,
     "metadata": {},
     "output_type": "execute_result"
    }
   ],
   "source": [
    "final.iloc[:-120, :].shape"
   ]
  },
  {
   "cell_type": "code",
   "execution_count": 66,
   "id": "b25b916e",
   "metadata": {
    "execution": {
     "iopub.execute_input": "2021-12-16T18:25:01.396799Z",
     "iopub.status.busy": "2021-12-16T18:25:01.395932Z",
     "iopub.status.idle": "2021-12-16T18:25:01.400276Z",
     "shell.execute_reply": "2021-12-16T18:25:01.399495Z",
     "shell.execute_reply.started": "2021-12-16T17:25:29.783044Z"
    },
    "papermill": {
     "duration": 0.115589,
     "end_time": "2021-12-16T18:25:01.400428",
     "exception": false,
     "start_time": "2021-12-16T18:25:01.284839",
     "status": "completed"
    },
    "tags": []
   },
   "outputs": [
    {
     "data": {
      "text/plain": [
       "(120, 18)"
      ]
     },
     "execution_count": 66,
     "metadata": {},
     "output_type": "execute_result"
    }
   ],
   "source": [
    "final.iloc[-120:, :].shape"
   ]
  },
  {
   "cell_type": "code",
   "execution_count": 67,
   "id": "6c873dbe",
   "metadata": {
    "execution": {
     "iopub.execute_input": "2021-12-16T18:25:01.616895Z",
     "iopub.status.busy": "2021-12-16T18:25:01.615975Z",
     "iopub.status.idle": "2021-12-16T18:25:01.619547Z",
     "shell.execute_reply": "2021-12-16T18:25:01.619005Z",
     "shell.execute_reply.started": "2021-12-16T17:25:30.064758Z"
    },
    "papermill": {
     "duration": 0.112733,
     "end_time": "2021-12-16T18:25:01.619701",
     "exception": false,
     "start_time": "2021-12-16T18:25:01.506968",
     "status": "completed"
    },
    "tags": []
   },
   "outputs": [],
   "source": [
    "train = final.iloc[:-120, :]\n",
    "test = final.iloc[-120:, :]"
   ]
  },
  {
   "cell_type": "code",
   "execution_count": 68,
   "id": "5727b5bb",
   "metadata": {
    "execution": {
     "iopub.execute_input": "2021-12-16T18:25:01.837034Z",
     "iopub.status.busy": "2021-12-16T18:25:01.836113Z",
     "iopub.status.idle": "2021-12-16T18:25:01.837739Z",
     "shell.execute_reply": "2021-12-16T18:25:01.838281Z",
     "shell.execute_reply.started": "2021-12-16T17:25:30.885917Z"
    },
    "papermill": {
     "duration": 0.11189,
     "end_time": "2021-12-16T18:25:01.838635",
     "exception": false,
     "start_time": "2021-12-16T18:25:01.726745",
     "status": "completed"
    },
    "tags": []
   },
   "outputs": [],
   "source": [
    "def mape(actual, pred): \n",
    "    actual, pred = np.array(actual), np.array(pred)\n",
    "    return np.mean(np.abs((actual - pred) / actual)) * 100"
   ]
  },
  {
   "cell_type": "markdown",
   "id": "594dbe70",
   "metadata": {
    "papermill": {
     "duration": 0.108011,
     "end_time": "2021-12-16T18:25:02.060766",
     "exception": false,
     "start_time": "2021-12-16T18:25:01.952755",
     "status": "completed"
    },
    "tags": []
   },
   "source": [
    "# VAR\n",
    "**Reason to use this is that considering that AC's are not in room but in dinning halls, Canteen or other places ,i.e., the power consumption of one AC can be dependent on another<br>\n",
    "Hence, the assumption that we making here is that the future valeus of a time series are dependent on its own past values and also one the past values of other time series**"
   ]
  },
  {
   "cell_type": "code",
   "execution_count": 69,
   "id": "5aa94348",
   "metadata": {
    "execution": {
     "iopub.execute_input": "2021-12-16T18:25:02.273647Z",
     "iopub.status.busy": "2021-12-16T18:25:02.272749Z",
     "iopub.status.idle": "2021-12-16T18:25:02.285075Z",
     "shell.execute_reply": "2021-12-16T18:25:02.284432Z",
     "shell.execute_reply.started": "2021-12-16T17:25:32.059353Z"
    },
    "papermill": {
     "duration": 0.11949,
     "end_time": "2021-12-16T18:25:02.285260",
     "exception": false,
     "start_time": "2021-12-16T18:25:02.165770",
     "status": "completed"
    },
    "tags": []
   },
   "outputs": [],
   "source": [
    "from statsmodels.tsa.vector_ar.var_model import VAR"
   ]
  },
  {
   "cell_type": "code",
   "execution_count": 70,
   "id": "f2054383",
   "metadata": {
    "execution": {
     "iopub.execute_input": "2021-12-16T18:25:02.546596Z",
     "iopub.status.busy": "2021-12-16T18:25:02.512505Z",
     "iopub.status.idle": "2021-12-16T18:25:03.615602Z",
     "shell.execute_reply": "2021-12-16T18:25:03.616797Z",
     "shell.execute_reply.started": "2021-12-16T17:25:32.631995Z"
    },
    "papermill": {
     "duration": 1.221995,
     "end_time": "2021-12-16T18:25:03.617094",
     "exception": false,
     "start_time": "2021-12-16T18:25:02.395099",
     "status": "completed"
    },
    "tags": []
   },
   "outputs": [],
   "source": [
    "model = VAR(endog=train)\n",
    "model_fit = model.fit(5)"
   ]
  },
  {
   "cell_type": "code",
   "execution_count": 71,
   "id": "052e22bf",
   "metadata": {
    "execution": {
     "iopub.execute_input": "2021-12-16T18:25:03.894584Z",
     "iopub.status.busy": "2021-12-16T18:25:03.893776Z",
     "iopub.status.idle": "2021-12-16T18:25:03.900553Z",
     "shell.execute_reply": "2021-12-16T18:25:03.901127Z",
     "shell.execute_reply.started": "2021-12-16T17:25:34.116532Z"
    },
    "papermill": {
     "duration": 0.12329,
     "end_time": "2021-12-16T18:25:03.901340",
     "exception": false,
     "start_time": "2021-12-16T18:25:03.778050",
     "status": "completed"
    },
    "tags": []
   },
   "outputs": [],
   "source": [
    "results = model_fit.forecast(model_fit.y, steps=len(test))"
   ]
  },
  {
   "cell_type": "code",
   "execution_count": 72,
   "id": "7a45fa6f",
   "metadata": {
    "execution": {
     "iopub.execute_input": "2021-12-16T18:25:04.123763Z",
     "iopub.status.busy": "2021-12-16T18:25:04.122642Z",
     "iopub.status.idle": "2021-12-16T18:25:04.128799Z",
     "shell.execute_reply": "2021-12-16T18:25:04.128299Z",
     "shell.execute_reply.started": "2021-12-16T17:25:34.185186Z"
    },
    "papermill": {
     "duration": 0.115261,
     "end_time": "2021-12-16T18:25:04.128958",
     "exception": false,
     "start_time": "2021-12-16T18:25:04.013697",
     "status": "completed"
    },
    "tags": []
   },
   "outputs": [],
   "source": [
    "df_forecast = pd.DataFrame(results, columns=test.columns, index = test.index)"
   ]
  },
  {
   "cell_type": "code",
   "execution_count": 73,
   "id": "c93c7883",
   "metadata": {
    "execution": {
     "iopub.execute_input": "2021-12-16T18:25:04.357463Z",
     "iopub.status.busy": "2021-12-16T18:25:04.356699Z",
     "iopub.status.idle": "2021-12-16T18:25:04.359709Z",
     "shell.execute_reply": "2021-12-16T18:25:04.359199Z",
     "shell.execute_reply.started": "2021-12-16T17:25:34.658113Z"
    },
    "papermill": {
     "duration": 0.119635,
     "end_time": "2021-12-16T18:25:04.359851",
     "exception": false,
     "start_time": "2021-12-16T18:25:04.240216",
     "status": "completed"
    },
    "tags": []
   },
   "outputs": [],
   "source": [
    "df_forecast[df_forecast< 0] = 0"
   ]
  },
  {
   "cell_type": "code",
   "execution_count": 74,
   "id": "e1f61923",
   "metadata": {
    "execution": {
     "iopub.execute_input": "2021-12-16T18:25:04.586140Z",
     "iopub.status.busy": "2021-12-16T18:25:04.584932Z",
     "iopub.status.idle": "2021-12-16T18:25:04.592440Z",
     "shell.execute_reply": "2021-12-16T18:25:04.593185Z",
     "shell.execute_reply.started": "2021-12-16T18:13:03.728097Z"
    },
    "papermill": {
     "duration": 0.123041,
     "end_time": "2021-12-16T18:25:04.593370",
     "exception": false,
     "start_time": "2021-12-16T18:25:04.470329",
     "status": "completed"
    },
    "tags": []
   },
   "outputs": [
    {
     "name": "stdout",
     "output_type": "stream",
     "text": [
      "AC 1 ----> 16.264541144933933\n",
      "AC 2 ----> 24.737789920381108\n",
      "AC 3 ----> 28.130192177925434\n",
      "AC 4 ----> inf\n",
      "AC 5 ----> 107.88432942135913\n",
      "AC 6 ----> inf\n",
      "AC 7 ----> 34.1937040531905\n",
      "AC 8 ----> inf\n",
      "AC 9 ----> 37.86925505833667\n",
      "AC 10 ----> 32.00390614542355\n",
      "AC 11 ----> 39.66144753601134\n",
      "AC 12 ----> 24.760972218774974\n",
      "AC 13 ----> 15.345945984958146\n",
      "AC 14 ----> 14.369340910287889\n",
      "AC 15 ----> 15.812943949314729\n",
      "AC 16 ----> 38.794628325731914\n",
      "AC 17 ----> 16.496647083199488\n",
      "AC 18 ----> 20.7277268162987\n"
     ]
    }
   ],
   "source": [
    "lst = []\n",
    "for i in test.columns:\n",
    "    error = mape(test[i], df_forecast[i])\n",
    "    print(f\"{i} ----> {error}\")\n",
    "    lst.append(error)"
   ]
  },
  {
   "cell_type": "markdown",
   "id": "544293ed",
   "metadata": {
    "papermill": {
     "duration": 0.107146,
     "end_time": "2021-12-16T18:25:04.809159",
     "exception": false,
     "start_time": "2021-12-16T18:25:04.702013",
     "status": "completed"
    },
    "tags": []
   },
   "source": [
    "**That value \"inf\" is due to division by zero, it is one of the drawback of using MAPE which occurs when Actual Value is 0, but I have used it here as it is one of the most common metric used in case of the evaluation of time series data**"
   ]
  },
  {
   "cell_type": "code",
   "execution_count": 75,
   "id": "08079e4e",
   "metadata": {
    "execution": {
     "iopub.execute_input": "2021-12-16T18:25:05.040801Z",
     "iopub.status.busy": "2021-12-16T18:25:05.036083Z",
     "iopub.status.idle": "2021-12-16T18:25:05.046201Z",
     "shell.execute_reply": "2021-12-16T18:25:05.045299Z",
     "shell.execute_reply.started": "2021-12-16T18:19:45.736985Z"
    },
    "papermill": {
     "duration": 0.12686,
     "end_time": "2021-12-16T18:25:05.046383",
     "exception": false,
     "start_time": "2021-12-16T18:25:04.919523",
     "status": "completed"
    },
    "tags": []
   },
   "outputs": [],
   "source": [
    "test[\"AC 4\"] += 1\n",
    "test[\"AC 6\"] += 1\n",
    "test[\"AC 8\"] += 1"
   ]
  },
  {
   "cell_type": "code",
   "execution_count": 76,
   "id": "ca9060b5",
   "metadata": {
    "execution": {
     "iopub.execute_input": "2021-12-16T18:25:05.276217Z",
     "iopub.status.busy": "2021-12-16T18:25:05.275338Z",
     "iopub.status.idle": "2021-12-16T18:25:05.277303Z",
     "shell.execute_reply": "2021-12-16T18:25:05.276786Z",
     "shell.execute_reply.started": "2021-12-16T18:21:02.571853Z"
    },
    "papermill": {
     "duration": 0.119543,
     "end_time": "2021-12-16T18:25:05.277436",
     "exception": false,
     "start_time": "2021-12-16T18:25:05.157893",
     "status": "completed"
    },
    "tags": []
   },
   "outputs": [],
   "source": [
    "df_forecast[\"AC 4\"] += 1\n",
    "df_forecast[\"AC 6\"] += 1\n",
    "df_forecast[\"AC 8\"] += 1"
   ]
  },
  {
   "cell_type": "markdown",
   "id": "de96f915",
   "metadata": {
    "papermill": {
     "duration": 0.106448,
     "end_time": "2021-12-16T18:25:05.492852",
     "exception": false,
     "start_time": "2021-12-16T18:25:05.386404",
     "status": "completed"
    },
    "tags": []
   },
   "source": [
    "**Here I have used very simple way to deal with division by zero error :)**"
   ]
  },
  {
   "cell_type": "code",
   "execution_count": 77,
   "id": "6bb77b26",
   "metadata": {
    "execution": {
     "iopub.execute_input": "2021-12-16T18:25:05.708306Z",
     "iopub.status.busy": "2021-12-16T18:25:05.705308Z",
     "iopub.status.idle": "2021-12-16T18:25:05.713902Z",
     "shell.execute_reply": "2021-12-16T18:25:05.714409Z",
     "shell.execute_reply.started": "2021-12-16T18:21:11.008926Z"
    },
    "papermill": {
     "duration": 0.115748,
     "end_time": "2021-12-16T18:25:05.714592",
     "exception": false,
     "start_time": "2021-12-16T18:25:05.598844",
     "status": "completed"
    },
    "tags": []
   },
   "outputs": [
    {
     "name": "stdout",
     "output_type": "stream",
     "text": [
      "AC 4 ----> 54.76864582785128\n",
      "AC 6 ----> 51.86004980754869\n",
      "AC 8 ----> 45.291912256736175\n"
     ]
    }
   ],
   "source": [
    "for i in [\"AC 4\", \"AC 6\", \"AC 8\"]:\n",
    "    error = mape(test[i], df_forecast[i])\n",
    "    print(f\"{i} ----> {error}\")"
   ]
  },
  {
   "cell_type": "markdown",
   "id": "44b48ca0",
   "metadata": {
    "papermill": {
     "duration": 0.107609,
     "end_time": "2021-12-16T18:25:05.934319",
     "exception": false,
     "start_time": "2021-12-16T18:25:05.826710",
     "status": "completed"
    },
    "tags": []
   },
   "source": [
    "# Facebook Prophet\n",
    "**Facebook Prophet is used in Univariate time series only, I am using this with the assumption that all the AC's power consumption is independent of each other like they are Room AC's**"
   ]
  },
  {
   "cell_type": "markdown",
   "id": "43804ffc",
   "metadata": {
    "papermill": {
     "duration": 0.10731,
     "end_time": "2021-12-16T18:25:06.150304",
     "exception": false,
     "start_time": "2021-12-16T18:25:06.042994",
     "status": "completed"
    },
    "tags": []
   },
   "source": [
    "**FbProphet Shows irrelevant warnings in Kaggle, so it has been implemented separately in another Notebook**"
   ]
  }
 ],
 "metadata": {
  "kernelspec": {
   "display_name": "Python 3",
   "language": "python",
   "name": "python3"
  },
  "language_info": {
   "codemirror_mode": {
    "name": "ipython",
    "version": 3
   },
   "file_extension": ".py",
   "mimetype": "text/x-python",
   "name": "python",
   "nbconvert_exporter": "python",
   "pygments_lexer": "ipython3",
   "version": "3.7.12"
  },
  "papermill": {
   "default_parameters": {},
   "duration": 98.565379,
   "end_time": "2021-12-16T18:25:08.867775",
   "environment_variables": {},
   "exception": null,
   "input_path": "__notebook__.ipynb",
   "output_path": "__notebook__.ipynb",
   "parameters": {},
   "start_time": "2021-12-16T18:23:30.302396",
   "version": "2.3.3"
  }
 },
 "nbformat": 4,
 "nbformat_minor": 5
}
