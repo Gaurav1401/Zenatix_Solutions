{
  "nbformat": 4,
  "nbformat_minor": 0,
  "metadata": {
    "colab": {
      "name": "FbProphet_Implementation.ipynb",
      "provenance": [],
      "authorship_tag": "ABX9TyOtFo2BKHt5X9nYwhLXU26B",
      "include_colab_link": true
    },
    "kernelspec": {
      "name": "python3",
      "display_name": "Python 3"
    },
    "language_info": {
      "name": "python"
    }
  },
  "cells": [
    {
      "cell_type": "markdown",
      "metadata": {
        "id": "view-in-github",
        "colab_type": "text"
      },
      "source": [
        "<a href=\"https://colab.research.google.com/github/Gaurav1401/Zenatix_Solutions/blob/main/FbProphet_Implementation.ipynb\" target=\"_parent\"><img src=\"https://colab.research.google.com/assets/colab-badge.svg\" alt=\"Open In Colab\"/></a>"
      ]
    },
    {
      "cell_type": "markdown",
      "source": [
        "**In this notebook, I am considering that the power consumption of all the AC's is independent of each other**"
      ],
      "metadata": {
        "id": "EhS3y4tvVlLv"
      }
    },
    {
      "cell_type": "code",
      "execution_count": 1,
      "metadata": {
        "colab": {
          "base_uri": "https://localhost:8080/"
        },
        "id": "KTZ2EAwOKatd",
        "outputId": "0b5a1f5b-1362-4c62-a600-1258d5335f85"
      },
      "outputs": [
        {
          "output_type": "stream",
          "name": "stderr",
          "text": [
            "/usr/local/lib/python3.7/dist-packages/statsmodels/tools/_testing.py:19: FutureWarning:\n",
            "\n",
            "pandas.util.testing is deprecated. Use the functions in the public API at pandas.testing instead.\n",
            "\n"
          ]
        }
      ],
      "source": [
        "import matplotlib.pyplot as plt\n",
        "import numpy as np\n",
        "import pandas as pd\n",
        "from tqdm import tqdm\n",
        "import joblib\n",
        "from sklearn.metrics import r2_score\n",
        "\n",
        "from multiprocessing import Pool, cpu_count\n",
        "from fbprophet import Prophet"
      ]
    },
    {
      "cell_type": "code",
      "source": [
        "final = pd.read_csv(\"another_data.csv\")"
      ],
      "metadata": {
        "id": "TlKIW0QUK6UM"
      },
      "execution_count": 2,
      "outputs": []
    },
    {
      "cell_type": "code",
      "source": [
        "timestamp = final[\"Timestamp\"]\n",
        "final.drop(\"Timestamp\", axis = \"columns\", inplace = True)"
      ],
      "metadata": {
        "id": "gLDxd90EL5lQ"
      },
      "execution_count": 3,
      "outputs": []
    },
    {
      "cell_type": "code",
      "source": [
        "final[final < 0] = 0\n",
        "final[final > 11.2] = 11.2"
      ],
      "metadata": {
        "id": "nJB0uqn-L-et"
      },
      "execution_count": 4,
      "outputs": []
    },
    {
      "cell_type": "code",
      "source": [
        "final.insert(0, \"Timestamp\", timestamp)"
      ],
      "metadata": {
        "id": "B92Qu0SpMBKM"
      },
      "execution_count": 5,
      "outputs": []
    },
    {
      "cell_type": "code",
      "source": [
        "final.drop(\"index\", axis = \"columns\", inplace = True)"
      ],
      "metadata": {
        "id": "dYT4j2lrMFCF"
      },
      "execution_count": 6,
      "outputs": []
    },
    {
      "cell_type": "code",
      "source": [
        "final = final.set_index(\"Timestamp\")"
      ],
      "metadata": {
        "id": "R5eCsjZNMG87"
      },
      "execution_count": 7,
      "outputs": []
    },
    {
      "cell_type": "code",
      "source": [
        "final.iloc[37440:-120, :].shape"
      ],
      "metadata": {
        "colab": {
          "base_uri": "https://localhost:8080/"
        },
        "id": "siZqcDLyMVZK",
        "outputId": "09b37739-2085-4c12-b64c-84da99aac25c"
      },
      "execution_count": 8,
      "outputs": [
        {
          "output_type": "execute_result",
          "data": {
            "text/plain": [
              "(50280, 18)"
            ]
          },
          "metadata": {},
          "execution_count": 8
        }
      ]
    },
    {
      "cell_type": "markdown",
      "source": [
        "**I am including the data of only last 5 days of the month of August as for the predictions of November month, the valeus won't be much dependent on the values of August Month**"
      ],
      "metadata": {
        "id": "4M2ASqPpU0OU"
      }
    },
    {
      "cell_type": "code",
      "source": [
        "train = final.iloc[37440:-120, :] \n",
        "test = final.iloc[-120:, :]"
      ],
      "metadata": {
        "id": "ntELwSYFMHvL"
      },
      "execution_count": 27,
      "outputs": []
    },
    {
      "cell_type": "markdown",
      "source": [
        "# **FbProphet implementation**"
      ],
      "metadata": {
        "id": "-jQrCrqJVEFq"
      }
    },
    {
      "cell_type": "code",
      "source": [
        "def run_prophet(timeseries):\n",
        "    model = Prophet(uncertainty_samples=False) # won't include confidence intervals and will also save time\n",
        "    model.fit(timeseries)\n",
        "    future = model.make_future_dataframe(periods=120, include_history=False) #won't include training data in the output\n",
        "    forecast = model.predict(future)\n",
        "    return forecast"
      ],
      "metadata": {
        "id": "n6bKrmGyMHso"
      },
      "execution_count": 10,
      "outputs": []
    },
    {
      "cell_type": "code",
      "source": [
        "predictions = pd.DataFrame()"
      ],
      "metadata": {
        "id": "DpgqE41CMue-"
      },
      "execution_count": 24,
      "outputs": []
    },
    {
      "cell_type": "code",
      "source": [
        "for i in test.columns:\n",
        "  train1 = pd.DataFrame()\n",
        "  train1 = train[[i]].reset_index()\n",
        "  train1.columns = ['ds', 'y']\n",
        "\n",
        "\n",
        "  with Pool(cpu_count()) as p:\n",
        "      forecast1 = p.map(run_prophet, [train1])\n",
        "\n",
        "\n",
        "  predictions[i] = forecast1[0][\"yhat\"]"
      ],
      "metadata": {
        "colab": {
          "base_uri": "https://localhost:8080/"
        },
        "id": "2jeuEPfsMHpz",
        "outputId": "3add1b97-46c9-4aee-aa9f-fe9b508eba16"
      },
      "execution_count": 28,
      "outputs": [
        {
          "output_type": "stream",
          "name": "stderr",
          "text": [
            "INFO:fbprophet:Disabling yearly seasonality. Run prophet with yearly_seasonality=True to override this.\n",
            "INFO:fbprophet:Disabling yearly seasonality. Run prophet with yearly_seasonality=True to override this.\n",
            "INFO:fbprophet:Disabling yearly seasonality. Run prophet with yearly_seasonality=True to override this.\n",
            "INFO:fbprophet:Disabling yearly seasonality. Run prophet with yearly_seasonality=True to override this.\n",
            "INFO:fbprophet:Disabling yearly seasonality. Run prophet with yearly_seasonality=True to override this.\n",
            "INFO:fbprophet:Disabling yearly seasonality. Run prophet with yearly_seasonality=True to override this.\n",
            "INFO:fbprophet:Disabling yearly seasonality. Run prophet with yearly_seasonality=True to override this.\n",
            "INFO:fbprophet:Disabling yearly seasonality. Run prophet with yearly_seasonality=True to override this.\n",
            "INFO:fbprophet:Disabling yearly seasonality. Run prophet with yearly_seasonality=True to override this.\n",
            "INFO:fbprophet:Disabling yearly seasonality. Run prophet with yearly_seasonality=True to override this.\n",
            "INFO:fbprophet:Disabling yearly seasonality. Run prophet with yearly_seasonality=True to override this.\n",
            "INFO:fbprophet:Disabling yearly seasonality. Run prophet with yearly_seasonality=True to override this.\n",
            "INFO:fbprophet:Disabling yearly seasonality. Run prophet with yearly_seasonality=True to override this.\n",
            "INFO:fbprophet:Disabling yearly seasonality. Run prophet with yearly_seasonality=True to override this.\n",
            "INFO:fbprophet:Disabling yearly seasonality. Run prophet with yearly_seasonality=True to override this.\n",
            "INFO:fbprophet:Disabling yearly seasonality. Run prophet with yearly_seasonality=True to override this.\n",
            "INFO:fbprophet:Disabling yearly seasonality. Run prophet with yearly_seasonality=True to override this.\n",
            "INFO:fbprophet:Disabling yearly seasonality. Run prophet with yearly_seasonality=True to override this.\n"
          ]
        }
      ]
    },
    {
      "cell_type": "code",
      "source": [
        "predictions.head()"
      ],
      "metadata": {
        "colab": {
          "base_uri": "https://localhost:8080/",
          "height": 226
        },
        "id": "-1eV1B7SZ7Aq",
        "outputId": "70aa8928-af70-4193-a607-041389e9c457"
      },
      "execution_count": 29,
      "outputs": [
        {
          "output_type": "execute_result",
          "data": {
            "text/html": [
              "<div>\n",
              "<style scoped>\n",
              "    .dataframe tbody tr th:only-of-type {\n",
              "        vertical-align: middle;\n",
              "    }\n",
              "\n",
              "    .dataframe tbody tr th {\n",
              "        vertical-align: top;\n",
              "    }\n",
              "\n",
              "    .dataframe thead th {\n",
              "        text-align: right;\n",
              "    }\n",
              "</style>\n",
              "<table border=\"1\" class=\"dataframe\">\n",
              "  <thead>\n",
              "    <tr style=\"text-align: right;\">\n",
              "      <th></th>\n",
              "      <th>AC 1</th>\n",
              "      <th>AC 2</th>\n",
              "      <th>AC 3</th>\n",
              "      <th>AC 4</th>\n",
              "      <th>AC 5</th>\n",
              "      <th>AC 6</th>\n",
              "      <th>AC 7</th>\n",
              "      <th>AC 8</th>\n",
              "      <th>AC 9</th>\n",
              "      <th>AC 10</th>\n",
              "      <th>AC 11</th>\n",
              "      <th>AC 12</th>\n",
              "      <th>AC 13</th>\n",
              "      <th>AC 14</th>\n",
              "      <th>AC 15</th>\n",
              "      <th>AC 16</th>\n",
              "      <th>AC 17</th>\n",
              "      <th>AC 18</th>\n",
              "    </tr>\n",
              "  </thead>\n",
              "  <tbody>\n",
              "    <tr>\n",
              "      <th>0</th>\n",
              "      <td>1.266718</td>\n",
              "      <td>0.912841</td>\n",
              "      <td>1.046615</td>\n",
              "      <td>0.993344</td>\n",
              "      <td>1.119411</td>\n",
              "      <td>0.465650</td>\n",
              "      <td>1.754878</td>\n",
              "      <td>1.372503</td>\n",
              "      <td>2.679313</td>\n",
              "      <td>1.382641</td>\n",
              "      <td>0.695030</td>\n",
              "      <td>1.620186</td>\n",
              "      <td>2.194366</td>\n",
              "      <td>2.465160</td>\n",
              "      <td>2.466734</td>\n",
              "      <td>2.296729</td>\n",
              "      <td>3.511975</td>\n",
              "      <td>4.751027</td>\n",
              "    </tr>\n",
              "    <tr>\n",
              "      <th>1</th>\n",
              "      <td>-0.280673</td>\n",
              "      <td>-0.416499</td>\n",
              "      <td>1.396213</td>\n",
              "      <td>0.316059</td>\n",
              "      <td>1.092195</td>\n",
              "      <td>0.318910</td>\n",
              "      <td>1.615329</td>\n",
              "      <td>1.657501</td>\n",
              "      <td>2.359466</td>\n",
              "      <td>1.367646</td>\n",
              "      <td>-0.420846</td>\n",
              "      <td>1.635156</td>\n",
              "      <td>2.197498</td>\n",
              "      <td>1.930894</td>\n",
              "      <td>1.386476</td>\n",
              "      <td>1.503817</td>\n",
              "      <td>3.329750</td>\n",
              "      <td>5.152081</td>\n",
              "    </tr>\n",
              "    <tr>\n",
              "      <th>2</th>\n",
              "      <td>-1.644433</td>\n",
              "      <td>-1.000411</td>\n",
              "      <td>0.436834</td>\n",
              "      <td>-0.177038</td>\n",
              "      <td>0.744560</td>\n",
              "      <td>-0.463826</td>\n",
              "      <td>0.485763</td>\n",
              "      <td>1.042704</td>\n",
              "      <td>2.108950</td>\n",
              "      <td>1.315866</td>\n",
              "      <td>-0.824734</td>\n",
              "      <td>1.399542</td>\n",
              "      <td>2.313744</td>\n",
              "      <td>1.735179</td>\n",
              "      <td>0.910105</td>\n",
              "      <td>1.892161</td>\n",
              "      <td>3.141210</td>\n",
              "      <td>5.521105</td>\n",
              "    </tr>\n",
              "    <tr>\n",
              "      <th>3</th>\n",
              "      <td>0.191466</td>\n",
              "      <td>-0.002428</td>\n",
              "      <td>0.816011</td>\n",
              "      <td>0.861494</td>\n",
              "      <td>1.138303</td>\n",
              "      <td>0.824653</td>\n",
              "      <td>1.679077</td>\n",
              "      <td>1.859607</td>\n",
              "      <td>2.597719</td>\n",
              "      <td>1.525780</td>\n",
              "      <td>0.101136</td>\n",
              "      <td>0.771683</td>\n",
              "      <td>1.837454</td>\n",
              "      <td>2.518524</td>\n",
              "      <td>1.036319</td>\n",
              "      <td>1.382586</td>\n",
              "      <td>3.174634</td>\n",
              "      <td>4.191033</td>\n",
              "    </tr>\n",
              "    <tr>\n",
              "      <th>4</th>\n",
              "      <td>-0.225175</td>\n",
              "      <td>0.802732</td>\n",
              "      <td>-0.013359</td>\n",
              "      <td>0.570476</td>\n",
              "      <td>1.038768</td>\n",
              "      <td>0.068914</td>\n",
              "      <td>0.848890</td>\n",
              "      <td>1.456298</td>\n",
              "      <td>2.113314</td>\n",
              "      <td>1.273457</td>\n",
              "      <td>-0.100290</td>\n",
              "      <td>0.977059</td>\n",
              "      <td>1.822462</td>\n",
              "      <td>2.330574</td>\n",
              "      <td>0.863157</td>\n",
              "      <td>1.391231</td>\n",
              "      <td>3.189672</td>\n",
              "      <td>4.428967</td>\n",
              "    </tr>\n",
              "  </tbody>\n",
              "</table>\n",
              "</div>"
            ],
            "text/plain": [
              "       AC 1      AC 2      AC 3  ...     AC 16     AC 17     AC 18\n",
              "0  1.266718  0.912841  1.046615  ...  2.296729  3.511975  4.751027\n",
              "1 -0.280673 -0.416499  1.396213  ...  1.503817  3.329750  5.152081\n",
              "2 -1.644433 -1.000411  0.436834  ...  1.892161  3.141210  5.521105\n",
              "3  0.191466 -0.002428  0.816011  ...  1.382586  3.174634  4.191033\n",
              "4 -0.225175  0.802732 -0.013359  ...  1.391231  3.189672  4.428967\n",
              "\n",
              "[5 rows x 18 columns]"
            ]
          },
          "metadata": {},
          "execution_count": 29
        }
      ]
    },
    {
      "cell_type": "code",
      "source": [
        "np.max(np.array(predictions)), np.min(np.array(predictions))"
      ],
      "metadata": {
        "colab": {
          "base_uri": "https://localhost:8080/"
        },
        "id": "k5qrAN0CZ_gF",
        "outputId": "1804e2aa-ab43-42f7-a8bc-ab5ff46be6c2"
      },
      "execution_count": 30,
      "outputs": [
        {
          "output_type": "execute_result",
          "data": {
            "text/plain": [
              "(5.521105433973937, -58.26643318519122)"
            ]
          },
          "metadata": {},
          "execution_count": 30
        }
      ]
    },
    {
      "cell_type": "markdown",
      "source": [
        "**Max value completely makes sense as in the month of November we can't expect a lot of power consumption<br>\n",
        "But Min value is negative which is not possible so such values should be replaced with 0**"
      ],
      "metadata": {
        "id": "VBq5mEhkaIhN"
      }
    },
    {
      "cell_type": "code",
      "source": [
        "predictions[predictions < 0] = 0"
      ],
      "metadata": {
        "id": "4EFBj4Hkaeld"
      },
      "execution_count": 31,
      "outputs": []
    },
    {
      "cell_type": "markdown",
      "source": [
        "# **Evaluation**"
      ],
      "metadata": {
        "id": "IPQgWpgKbH37"
      }
    },
    {
      "cell_type": "code",
      "source": [
        "def mape(actual, pred): \n",
        "    actual, pred = np.array(actual), np.array(pred)\n",
        "    return np.mean(np.abs((actual - pred) / actual)) * 100"
      ],
      "metadata": {
        "id": "tFvKWOLZaeWS"
      },
      "execution_count": 33,
      "outputs": []
    },
    {
      "cell_type": "code",
      "source": [
        "# Evaluating using Mean Absolute Percentage Error\n",
        "lst = []\n",
        "for i in test.columns:\n",
        "    error = mape(test[i], predictions[i])\n",
        "    print(f\"{i} ----> {error}\")\n",
        "    lst.append(error)"
      ],
      "metadata": {
        "colab": {
          "base_uri": "https://localhost:8080/"
        },
        "id": "FJxnkIJkaqrU",
        "outputId": "508efbc4-d3c5-4c41-f1df-20613cdc1435"
      },
      "execution_count": 34,
      "outputs": [
        {
          "output_type": "stream",
          "name": "stdout",
          "text": [
            "AC 1 ----> 99.50157938575369\n",
            "AC 2 ----> 99.76738843350614\n",
            "AC 3 ----> 97.88017789307112\n",
            "AC 4 ----> nan\n",
            "AC 5 ----> 89.98235196960525\n",
            "AC 6 ----> nan\n",
            "AC 7 ----> 96.42260496912614\n",
            "AC 8 ----> nan\n",
            "AC 9 ----> 86.23047348850169\n",
            "AC 10 ----> 84.22953218715797\n",
            "AC 11 ----> 99.56721278531462\n",
            "AC 12 ----> 96.05054051562291\n",
            "AC 13 ----> 97.37022934435001\n",
            "AC 14 ----> 89.91378210346124\n",
            "AC 15 ----> 97.85354004907343\n",
            "AC 16 ----> 96.02730021372173\n",
            "AC 17 ----> 91.23131176660627\n",
            "AC 18 ----> 92.87016657169576\n"
          ]
        },
        {
          "output_type": "stream",
          "name": "stderr",
          "text": [
            "/usr/local/lib/python3.7/dist-packages/ipykernel_launcher.py:3: RuntimeWarning:\n",
            "\n",
            "invalid value encountered in true_divide\n",
            "\n"
          ]
        }
      ]
    },
    {
      "cell_type": "code",
      "source": [
        "test[\"AC 4\"] += 1\n",
        "test[\"AC 6\"] += 1\n",
        "test[\"AC 8\"] += 1"
      ],
      "metadata": {
        "colab": {
          "base_uri": "https://localhost:8080/"
        },
        "id": "Wmw3IAtQetVo",
        "outputId": "4798ec87-7400-437f-c5d6-480b42d5b8f4"
      },
      "execution_count": 35,
      "outputs": [
        {
          "output_type": "stream",
          "name": "stderr",
          "text": [
            "/usr/local/lib/python3.7/dist-packages/ipykernel_launcher.py:1: SettingWithCopyWarning:\n",
            "\n",
            "\n",
            "A value is trying to be set on a copy of a slice from a DataFrame.\n",
            "Try using .loc[row_indexer,col_indexer] = value instead\n",
            "\n",
            "See the caveats in the documentation: https://pandas.pydata.org/pandas-docs/stable/user_guide/indexing.html#returning-a-view-versus-a-copy\n",
            "\n",
            "/usr/local/lib/python3.7/dist-packages/ipykernel_launcher.py:2: SettingWithCopyWarning:\n",
            "\n",
            "\n",
            "A value is trying to be set on a copy of a slice from a DataFrame.\n",
            "Try using .loc[row_indexer,col_indexer] = value instead\n",
            "\n",
            "See the caveats in the documentation: https://pandas.pydata.org/pandas-docs/stable/user_guide/indexing.html#returning-a-view-versus-a-copy\n",
            "\n",
            "/usr/local/lib/python3.7/dist-packages/ipykernel_launcher.py:3: SettingWithCopyWarning:\n",
            "\n",
            "\n",
            "A value is trying to be set on a copy of a slice from a DataFrame.\n",
            "Try using .loc[row_indexer,col_indexer] = value instead\n",
            "\n",
            "See the caveats in the documentation: https://pandas.pydata.org/pandas-docs/stable/user_guide/indexing.html#returning-a-view-versus-a-copy\n",
            "\n"
          ]
        }
      ]
    },
    {
      "cell_type": "code",
      "source": [
        "predictions[\"AC 4\"] += 1\n",
        "predictions[\"AC 6\"] += 1\n",
        "predictions[\"AC 8\"] += 1"
      ],
      "metadata": {
        "id": "76INgW2eetDJ"
      },
      "execution_count": 36,
      "outputs": []
    },
    {
      "cell_type": "code",
      "source": [
        "for i in [\"AC 4\", \"AC 6\", \"AC 8\"]:\n",
        "    error = mape(test[i], predictions[i])\n",
        "    print(f\"{i} ----> {error}\")"
      ],
      "metadata": {
        "colab": {
          "base_uri": "https://localhost:8080/"
        },
        "id": "HYRPpZk_e-nB",
        "outputId": "ff0747a9-1042-4625-bf80-29827e76d8e9"
      },
      "execution_count": 37,
      "outputs": [
        {
          "output_type": "stream",
          "name": "stdout",
          "text": [
            "AC 4 ----> 52.960012153338056\n",
            "AC 6 ----> 34.25682301075278\n",
            "AC 8 ----> 60.55065544737527\n"
          ]
        }
      ]
    }
  ]
}